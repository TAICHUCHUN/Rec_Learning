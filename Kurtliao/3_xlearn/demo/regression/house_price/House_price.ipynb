{
 "cells": [
  {
   "cell_type": "code",
   "execution_count": 12,
   "metadata": {
    "collapsed": false
   },
   "outputs": [],
   "source": [
    "import xlearn as xl\n",
    "\n",
    "# Training task\n",
    "ffm_model = xl.create_fm()  # Use factorization machine\n",
    "ffm_model.setTrain(\"house_price_train.txt\")  # Training data\n",
    "\n",
    "# param:\n",
    "#  0. Binary task\n",
    "#  1. learning rate: 0.2\n",
    "#  2. regular lambda: 0.002\n",
    "#  4. evaluation metric: rmse\n",
    "param = {'task':'reg', 'lr':0.2, \n",
    "         'lambda':0.002, 'metric':'rmse','k':10,\n",
    "        'epoch':25}\n",
    "\n",
    "# Use cross-validation\n",
    "ffm_model.cv(param)"
   ]
  },
  {
   "cell_type": "code",
   "execution_count": null,
   "metadata": {
    "collapsed": true
   },
   "outputs": [],
   "source": []
  },
  {
   "cell_type": "code",
   "execution_count": 14,
   "metadata": {
    "collapsed": true
   },
   "outputs": [],
   "source": [
    "\n",
    "# Start to train\n",
    "# The trained model will be stored in model.out\n",
    "ffm_model.fit(param, 'model.out')\n",
    "\n",
    "ffm_model.setTest(\"house_price_test.txt\")\n",
    "ffm_model.predict(\"model.out\", \"output.txt\")"
   ]
  },
  {
   "cell_type": "code",
   "execution_count": null,
   "metadata": {
    "collapsed": true
   },
   "outputs": [],
   "source": []
  }
 ],
 "metadata": {
  "kernelspec": {
   "display_name": "Python 2",
   "language": "python",
   "name": "python2"
  },
  "language_info": {
   "codemirror_mode": {
    "name": "ipython",
    "version": 2
   },
   "file_extension": ".py",
   "mimetype": "text/x-python",
   "name": "python",
   "nbconvert_exporter": "python",
   "pygments_lexer": "ipython2",
   "version": "2.7.12"
  }
 },
 "nbformat": 4,
 "nbformat_minor": 2
}
