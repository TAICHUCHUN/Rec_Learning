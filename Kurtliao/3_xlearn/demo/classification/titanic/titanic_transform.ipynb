{
 "cells": [
  {
   "cell_type": "code",
   "execution_count": 196,
   "metadata": {
    "collapsed": false
   },
   "outputs": [],
   "source": [
    "# Based on Kaggle kernel by Scirpus\n",
    "def convert_to_ffm(df,type,numerics,categories,features):\n",
    "    currentcode = len(numerics)\n",
    "    catdict = {}\n",
    "    catcodes = {}\n",
    "    # Flagging categorical and numerical fields\n",
    "    for x in numerics:\n",
    "         catdict[x] = 0\n",
    "    for x in categories:\n",
    "         catdict[x] = 1\n",
    "    \n",
    "    nrows = df.shape[0]\n",
    "    ncolumns = len(features)\n",
    "    with open(str(type) + \"_ffm.txt\", \"w\") as text_file:\n",
    "# Looping over rows to convert each row to libffm format\n",
    "        for n,r in enumerate(range(nrows)):\n",
    "            datastring = \"\"\n",
    "            datarow = df.iloc[r].to_dict()\n",
    "            datastring += str(int(datarow['Label']))\n",
    "             # For numerical fields, we are creating a dummy field here\n",
    "            for i, x in enumerate(catdict.keys()):\n",
    "                if(catdict[x]==0):\n",
    "                    datastring = datastring + \" \"+str(i)+\":\"+ str(i)+\":\"+ str(datarow[x])\n",
    "                else:\n",
    "            # For a new field appearing in a training example\n",
    "                    if(x not in catcodes):\n",
    "                        catcodes[x] = {}\n",
    "                        currentcode +=1\n",
    "                        catcodes[x][datarow[x]] = currentcode #encoding the feature\n",
    "            # For already encoded fields\n",
    "                    elif(datarow[x] not in catcodes[x]):\n",
    "                        currentcode +=1\n",
    "                        catcodes[x][datarow[x]] = currentcode #encoding the feature\n",
    "                    code = catcodes[x][datarow[x]]\n",
    "                    datastring = datastring + \" \"+str(i)+\":\"+ str(int(code))+\":1\"\n",
    "\n",
    "            datastring += '\\n'\n",
    "            text_file.write(datastring)"
   ]
  },
  {
   "cell_type": "code",
   "execution_count": 197,
   "metadata": {
    "collapsed": true
   },
   "outputs": [],
   "source": [
    "import pandas as pd "
   ]
  },
  {
   "cell_type": "code",
   "execution_count": 198,
   "metadata": {
    "collapsed": false
   },
   "outputs": [],
   "source": [
    "df = pd.read_csv('train.csv')"
   ]
  },
  {
   "cell_type": "code",
   "execution_count": 199,
   "metadata": {
    "collapsed": false
   },
   "outputs": [
    {
     "data": {
      "text/plain": [
       "PassengerId      int64\n",
       "Survived         int64\n",
       "Pclass           int64\n",
       "Name            object\n",
       "Sex             object\n",
       "Age            float64\n",
       "SibSp            int64\n",
       "Parch            int64\n",
       "Ticket          object\n",
       "Fare           float64\n",
       "Cabin           object\n",
       "Embarked        object\n",
       "dtype: object"
      ]
     },
     "execution_count": 199,
     "metadata": {},
     "output_type": "execute_result"
    }
   ],
   "source": [
    "df.dtypes"
   ]
  },
  {
   "cell_type": "code",
   "execution_count": 200,
   "metadata": {
    "collapsed": false
   },
   "outputs": [],
   "source": [
    "all_c =['Sex','Embarked']\n",
    "all_n = list(df.select_dtypes(include=[int,float]).columns[2:])\n",
    "all_f = all_c+all_n"
   ]
  },
  {
   "cell_type": "code",
   "execution_count": 201,
   "metadata": {
    "collapsed": false
   },
   "outputs": [
    {
     "data": {
      "text/plain": [
       "['Sex', 'Embarked', 'Pclass', 'Age', 'SibSp', 'Parch', 'Fare']"
      ]
     },
     "execution_count": 201,
     "metadata": {},
     "output_type": "execute_result"
    }
   ],
   "source": [
    "all_f"
   ]
  },
  {
   "cell_type": "code",
   "execution_count": 157,
   "metadata": {
    "collapsed": false
   },
   "outputs": [],
   "source": [
    "#df#"
   ]
  },
  {
   "cell_type": "code",
   "execution_count": 202,
   "metadata": {
    "collapsed": false
   },
   "outputs": [],
   "source": [
    "df=df.rename(index=str,columns={'Survived':'Label'})\n",
    "df.Age=df.Age.fillna(float(int(df.Age.mean())))"
   ]
  },
  {
   "cell_type": "code",
   "execution_count": 186,
   "metadata": {
    "collapsed": false
   },
   "outputs": [],
   "source": [
    "#float(int(df.Age.mean()))"
   ]
  },
  {
   "cell_type": "code",
   "execution_count": 209,
   "metadata": {
    "collapsed": false
   },
   "outputs": [],
   "source": [
    "convert_to_ffm(df[all_n+['Label']],'Train',all_n,[],all_f)"
   ]
  },
  {
   "cell_type": "code",
   "execution_count": 204,
   "metadata": {
    "collapsed": false
   },
   "outputs": [
    {
     "data": {
      "text/plain": [
       "Pclass    0\n",
       "Age       0\n",
       "SibSp     0\n",
       "Parch     0\n",
       "Fare      0\n",
       "Label     0\n",
       "dtype: int64"
      ]
     },
     "execution_count": 204,
     "metadata": {},
     "output_type": "execute_result"
    }
   ],
   "source": [
    "df[all_n+['Label']].isnull().sum()"
   ]
  },
  {
   "cell_type": "code",
   "execution_count": 205,
   "metadata": {
    "collapsed": true
   },
   "outputs": [],
   "source": [
    "import numpy as np"
   ]
  },
  {
   "cell_type": "code",
   "execution_count": 206,
   "metadata": {
    "collapsed": false
   },
   "outputs": [],
   "source": [
    "df_t  = pd.read_csv('test.csv')\n",
    "df_t['Label']=0\n",
    "#df_t=df_t.rename(index=str,columns={'Survived':'Label'})"
   ]
  },
  {
   "cell_type": "code",
   "execution_count": 149,
   "metadata": {
    "collapsed": false
   },
   "outputs": [],
   "source": [
    "#df_t"
   ]
  },
  {
   "cell_type": "code",
   "execution_count": 207,
   "metadata": {
    "collapsed": false
   },
   "outputs": [],
   "source": [
    "convert_to_ffm(df_t[all_n+['Label']],'Test',all_n,[],all_f)"
   ]
  },
  {
   "cell_type": "code",
   "execution_count": 210,
   "metadata": {
    "collapsed": false
   },
   "outputs": [],
   "source": [
    "import xlearn as xl\n",
    "\n",
    "# Training task\n",
    "ffm_model = xl.create_fm()  # Use field-aware factorization machine\n",
    "ffm_model.setTrain(\"Train_ffm.txt\")   # Training data\n",
    "ffm_model.setValidate(\"Train_ffm.txt\")  # Validation data\n",
    "\n",
    "# param:\n",
    "#  0. binary classification\n",
    "#  1. learning rate : 0.2\n",
    "#  2. regular lambda : 0.002\n",
    "param = {'task':'binary', # ‘binary’ for classification, ‘reg’ for Regression\n",
    "         'k':10,           # Size of latent factor \n",
    "         'lr':0.1,        # Learning rate for GD\n",
    "         'lambda':0.0002, # L2 Regularization Parameter\n",
    "         'metric':'auc',  # Metric for monitoring validation set performance\n",
    "         'epoch':25       # Maximum number of Epochs\n",
    "        }\n",
    "# Train model\n",
    "ffm_model.fit(param,'model.out')"
   ]
  },
  {
   "cell_type": "code",
   "execution_count": 211,
   "metadata": {
    "collapsed": false
   },
   "outputs": [],
   "source": [
    "X.Age = X.Age.fillna(25)"
   ]
  },
  {
   "cell_type": "code",
   "execution_count": 212,
   "metadata": {
    "collapsed": false
   },
   "outputs": [],
   "source": [
    "X = df[all_n]\n",
    "#X=pd.get_dummies(X,columns=X.select_dtypes(include=[object]))\n",
    "X.Age = X.Age.fillna(25)\n",
    "y = df.Label\n",
    "\n",
    "#print df\n",
    "from sklearn.datasets import dump_svmlight_file\n",
    "dump_svmlight_file(X,y,'smvlight.dat',zero_based=True,multilabel=False)"
   ]
  },
  {
   "cell_type": "code",
   "execution_count": 213,
   "metadata": {
    "collapsed": true
   },
   "outputs": [],
   "source": [
    "ffm_model = xl.create_ffm()\n",
    "ffm_model.setTrain(\"Train_ffm.txt\")\n",
    "ffm_model.setValidate(\"Train_ffm.txt\")\n",
    "\n",
    "param = {'task':'binary', # ‘binary’ for classification, ‘reg’ for Regression\n",
    "         'k':10,           # Size of latent factor \n",
    "         'lr':0.1,        # Learning rate for GD\n",
    "         'lambda':0.0002, # L2 Regularization Parameter\n",
    "         'metric':'auc',  # Metric for monitoring validation set performance\n",
    "         'epoch':25       # Maximum number of Epochs\n",
    "        }\n",
    "\n",
    "ffm_model.fit(param, \"model.out\")"
   ]
  },
  {
   "cell_type": "code",
   "execution_count": 214,
   "metadata": {
    "collapsed": true
   },
   "outputs": [],
   "source": [
    "ffm_model.setTest(\"Test_ffm.txt\")\n",
    "ffm_model.predict('model.out', \"output2.txt\")"
   ]
  },
  {
   "cell_type": "code",
   "execution_count": 215,
   "metadata": {
    "collapsed": false
   },
   "outputs": [],
   "source": [
    "import xlearn as xl\n",
    "\n",
    "# Training task\n",
    "fm_model = xl.create_fm()  # Use factorization machine\n",
    "fm_model.setTrain(\"Train_ffm.txt\")  # Training data\n",
    "fm_model.setValidate(\"Train_ffm.txt\")\n",
    "# param:\n",
    "#  0. Binary classification task\n",
    "#  1. learning rate: 0.2\n",
    "#  2. lambda: 0.002\n",
    "#  3. metric: accuracy\n",
    "param = {'task':'binary', 'lr':0.2, 'k':5,\n",
    "         'lambda':0.002, 'metric':'acc'}\n",
    "\n",
    "# Use cross-validation\n",
    "fm_model.fit(param,'model.out')"
   ]
  },
  {
   "cell_type": "code",
   "execution_count": 95,
   "metadata": {
    "collapsed": false
   },
   "outputs": [],
   "source": [
    "ffm_model.setTest(\"Test_ffm.txt\")\n",
    "ffm_model.predict('model.out','output1.txt')"
   ]
  },
  {
   "cell_type": "code",
   "execution_count": null,
   "metadata": {
    "collapsed": true
   },
   "outputs": [],
   "source": []
  }
 ],
 "metadata": {
  "kernelspec": {
   "display_name": "Python 2",
   "language": "python",
   "name": "python2"
  },
  "language_info": {
   "codemirror_mode": {
    "name": "ipython",
    "version": 2
   },
   "file_extension": ".py",
   "mimetype": "text/x-python",
   "name": "python",
   "nbconvert_exporter": "python",
   "pygments_lexer": "ipython2",
   "version": "2.7.12"
  }
 },
 "nbformat": 4,
 "nbformat_minor": 2
}
