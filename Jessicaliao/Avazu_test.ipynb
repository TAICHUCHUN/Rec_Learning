{
 "cells": [
  {
   "cell_type": "code",
   "execution_count": 108,
   "metadata": {
    "collapsed": true
   },
   "outputs": [],
   "source": [
    "import pandas as pd\n",
    "import numpy as np"
   ]
  },
  {
   "cell_type": "code",
   "execution_count": 109,
   "metadata": {},
   "outputs": [],
   "source": [
    "train_data = pd.read_csv('./train',nrows = 10000)\n",
    "#test_data = pd.read_csv('./test',nrows = 10000)"
   ]
  },
  {
   "cell_type": "code",
   "execution_count": 110,
   "metadata": {},
   "outputs": [
    {
     "data": {
      "text/html": [
       "<div>\n",
       "<style>\n",
       "    .dataframe thead tr:only-child th {\n",
       "        text-align: right;\n",
       "    }\n",
       "\n",
       "    .dataframe thead th {\n",
       "        text-align: left;\n",
       "    }\n",
       "\n",
       "    .dataframe tbody tr th {\n",
       "        vertical-align: top;\n",
       "    }\n",
       "</style>\n",
       "<table border=\"1\" class=\"dataframe\">\n",
       "  <thead>\n",
       "    <tr style=\"text-align: right;\">\n",
       "      <th></th>\n",
       "      <th>id</th>\n",
       "      <th>click</th>\n",
       "      <th>hour</th>\n",
       "      <th>C1</th>\n",
       "      <th>banner_pos</th>\n",
       "      <th>device_type</th>\n",
       "      <th>device_conn_type</th>\n",
       "      <th>C14</th>\n",
       "      <th>C15</th>\n",
       "      <th>C16</th>\n",
       "      <th>C17</th>\n",
       "      <th>C18</th>\n",
       "      <th>C19</th>\n",
       "      <th>C20</th>\n",
       "      <th>C21</th>\n",
       "    </tr>\n",
       "  </thead>\n",
       "  <tbody>\n",
       "    <tr>\n",
       "      <th>count</th>\n",
       "      <td>1.000000e+04</td>\n",
       "      <td>10000.000000</td>\n",
       "      <td>10000.0</td>\n",
       "      <td>10000.000000</td>\n",
       "      <td>10000.000000</td>\n",
       "      <td>10000.000000</td>\n",
       "      <td>10000.000000</td>\n",
       "      <td>10000.000000</td>\n",
       "      <td>10000.000000</td>\n",
       "      <td>10000.000000</td>\n",
       "      <td>10000.000000</td>\n",
       "      <td>10000.000000</td>\n",
       "      <td>10000.000000</td>\n",
       "      <td>10000.000000</td>\n",
       "      <td>10000.000000</td>\n",
       "    </tr>\n",
       "    <tr>\n",
       "      <th>mean</th>\n",
       "      <td>9.795641e+18</td>\n",
       "      <td>0.170600</td>\n",
       "      <td>14102100.0</td>\n",
       "      <td>1005.059900</td>\n",
       "      <td>0.195900</td>\n",
       "      <td>1.068200</td>\n",
       "      <td>0.204500</td>\n",
       "      <td>17711.693800</td>\n",
       "      <td>318.478000</td>\n",
       "      <td>56.986400</td>\n",
       "      <td>1967.605900</td>\n",
       "      <td>0.789500</td>\n",
       "      <td>125.622400</td>\n",
       "      <td>37746.299500</td>\n",
       "      <td>88.260300</td>\n",
       "    </tr>\n",
       "    <tr>\n",
       "      <th>std</th>\n",
       "      <td>2.853038e+18</td>\n",
       "      <td>0.376178</td>\n",
       "      <td>0.0</td>\n",
       "      <td>1.103193</td>\n",
       "      <td>0.404895</td>\n",
       "      <td>0.601984</td>\n",
       "      <td>0.646469</td>\n",
       "      <td>3139.296362</td>\n",
       "      <td>11.492429</td>\n",
       "      <td>37.425508</td>\n",
       "      <td>385.160315</td>\n",
       "      <td>1.228878</td>\n",
       "      <td>234.039047</td>\n",
       "      <td>48516.401341</td>\n",
       "      <td>45.153569</td>\n",
       "    </tr>\n",
       "    <tr>\n",
       "      <th>min</th>\n",
       "      <td>1.004777e+16</td>\n",
       "      <td>0.000000</td>\n",
       "      <td>14102100.0</td>\n",
       "      <td>1001.000000</td>\n",
       "      <td>0.000000</td>\n",
       "      <td>0.000000</td>\n",
       "      <td>0.000000</td>\n",
       "      <td>375.000000</td>\n",
       "      <td>216.000000</td>\n",
       "      <td>36.000000</td>\n",
       "      <td>112.000000</td>\n",
       "      <td>0.000000</td>\n",
       "      <td>35.000000</td>\n",
       "      <td>-1.000000</td>\n",
       "      <td>13.000000</td>\n",
       "    </tr>\n",
       "    <tr>\n",
       "      <th>25%</th>\n",
       "      <td>1.024754e+19</td>\n",
       "      <td>0.000000</td>\n",
       "      <td>14102100.0</td>\n",
       "      <td>1005.000000</td>\n",
       "      <td>0.000000</td>\n",
       "      <td>1.000000</td>\n",
       "      <td>0.000000</td>\n",
       "      <td>15704.000000</td>\n",
       "      <td>320.000000</td>\n",
       "      <td>50.000000</td>\n",
       "      <td>1722.000000</td>\n",
       "      <td>0.000000</td>\n",
       "      <td>35.000000</td>\n",
       "      <td>-1.000000</td>\n",
       "      <td>61.000000</td>\n",
       "    </tr>\n",
       "    <tr>\n",
       "      <th>50%</th>\n",
       "      <td>1.063018e+19</td>\n",
       "      <td>0.000000</td>\n",
       "      <td>14102100.0</td>\n",
       "      <td>1005.000000</td>\n",
       "      <td>0.000000</td>\n",
       "      <td>1.000000</td>\n",
       "      <td>0.000000</td>\n",
       "      <td>17654.000000</td>\n",
       "      <td>320.000000</td>\n",
       "      <td>50.000000</td>\n",
       "      <td>1993.000000</td>\n",
       "      <td>0.000000</td>\n",
       "      <td>35.000000</td>\n",
       "      <td>-1.000000</td>\n",
       "      <td>79.000000</td>\n",
       "    </tr>\n",
       "    <tr>\n",
       "      <th>75%</th>\n",
       "      <td>1.100749e+19</td>\n",
       "      <td>0.000000</td>\n",
       "      <td>14102100.0</td>\n",
       "      <td>1005.000000</td>\n",
       "      <td>0.000000</td>\n",
       "      <td>1.000000</td>\n",
       "      <td>0.000000</td>\n",
       "      <td>20362.000000</td>\n",
       "      <td>320.000000</td>\n",
       "      <td>50.000000</td>\n",
       "      <td>2307.000000</td>\n",
       "      <td>2.000000</td>\n",
       "      <td>39.000000</td>\n",
       "      <td>100083.000000</td>\n",
       "      <td>117.000000</td>\n",
       "    </tr>\n",
       "    <tr>\n",
       "      <th>max</th>\n",
       "      <td>1.138513e+19</td>\n",
       "      <td>1.000000</td>\n",
       "      <td>14102100.0</td>\n",
       "      <td>1010.000000</td>\n",
       "      <td>5.000000</td>\n",
       "      <td>5.000000</td>\n",
       "      <td>5.000000</td>\n",
       "      <td>21705.000000</td>\n",
       "      <td>728.000000</td>\n",
       "      <td>480.000000</td>\n",
       "      <td>2497.000000</td>\n",
       "      <td>3.000000</td>\n",
       "      <td>1835.000000</td>\n",
       "      <td>100248.000000</td>\n",
       "      <td>157.000000</td>\n",
       "    </tr>\n",
       "  </tbody>\n",
       "</table>\n",
       "</div>"
      ],
      "text/plain": [
       "                 id         click        hour            C1    banner_pos  \\\n",
       "count  1.000000e+04  10000.000000     10000.0  10000.000000  10000.000000   \n",
       "mean   9.795641e+18      0.170600  14102100.0   1005.059900      0.195900   \n",
       "std    2.853038e+18      0.376178         0.0      1.103193      0.404895   \n",
       "min    1.004777e+16      0.000000  14102100.0   1001.000000      0.000000   \n",
       "25%    1.024754e+19      0.000000  14102100.0   1005.000000      0.000000   \n",
       "50%    1.063018e+19      0.000000  14102100.0   1005.000000      0.000000   \n",
       "75%    1.100749e+19      0.000000  14102100.0   1005.000000      0.000000   \n",
       "max    1.138513e+19      1.000000  14102100.0   1010.000000      5.000000   \n",
       "\n",
       "        device_type  device_conn_type           C14           C15  \\\n",
       "count  10000.000000      10000.000000  10000.000000  10000.000000   \n",
       "mean       1.068200          0.204500  17711.693800    318.478000   \n",
       "std        0.601984          0.646469   3139.296362     11.492429   \n",
       "min        0.000000          0.000000    375.000000    216.000000   \n",
       "25%        1.000000          0.000000  15704.000000    320.000000   \n",
       "50%        1.000000          0.000000  17654.000000    320.000000   \n",
       "75%        1.000000          0.000000  20362.000000    320.000000   \n",
       "max        5.000000          5.000000  21705.000000    728.000000   \n",
       "\n",
       "                C16           C17           C18           C19            C20  \\\n",
       "count  10000.000000  10000.000000  10000.000000  10000.000000   10000.000000   \n",
       "mean      56.986400   1967.605900      0.789500    125.622400   37746.299500   \n",
       "std       37.425508    385.160315      1.228878    234.039047   48516.401341   \n",
       "min       36.000000    112.000000      0.000000     35.000000      -1.000000   \n",
       "25%       50.000000   1722.000000      0.000000     35.000000      -1.000000   \n",
       "50%       50.000000   1993.000000      0.000000     35.000000      -1.000000   \n",
       "75%       50.000000   2307.000000      2.000000     39.000000  100083.000000   \n",
       "max      480.000000   2497.000000      3.000000   1835.000000  100248.000000   \n",
       "\n",
       "                C21  \n",
       "count  10000.000000  \n",
       "mean      88.260300  \n",
       "std       45.153569  \n",
       "min       13.000000  \n",
       "25%       61.000000  \n",
       "50%       79.000000  \n",
       "75%      117.000000  \n",
       "max      157.000000  "
      ]
     },
     "execution_count": 110,
     "metadata": {},
     "output_type": "execute_result"
    }
   ],
   "source": [
    "train_data.describe()"
   ]
  },
  {
   "cell_type": "code",
   "execution_count": 111,
   "metadata": {},
   "outputs": [
    {
     "data": {
      "text/plain": [
       "(10000, 24)"
      ]
     },
     "execution_count": 111,
     "metadata": {},
     "output_type": "execute_result"
    }
   ],
   "source": [
    "train_data.shape"
   ]
  },
  {
   "cell_type": "markdown",
   "metadata": {},
   "source": [
    "## 資料描述\n",
    "- hour 無差別，可刪除\n",
    "- banner_pos 不是0，就是5，沒有太有意義\n",
    "- C14,C17,C19,C20 標準差過大，需要標準化"
   ]
  },
  {
   "cell_type": "code",
   "execution_count": 112,
   "metadata": {},
   "outputs": [
    {
     "data": {
      "text/plain": [
       "id                  uint64\n",
       "click                int64\n",
       "hour                 int64\n",
       "C1                   int64\n",
       "banner_pos           int64\n",
       "site_id             object\n",
       "site_domain         object\n",
       "site_category       object\n",
       "app_id              object\n",
       "app_domain          object\n",
       "app_category        object\n",
       "device_id           object\n",
       "device_ip           object\n",
       "device_model        object\n",
       "device_type          int64\n",
       "device_conn_type     int64\n",
       "C14                  int64\n",
       "C15                  int64\n",
       "C16                  int64\n",
       "C17                  int64\n",
       "C18                  int64\n",
       "C19                  int64\n",
       "C20                  int64\n",
       "C21                  int64\n",
       "dtype: object"
      ]
     },
     "execution_count": 112,
     "metadata": {},
     "output_type": "execute_result"
    }
   ],
   "source": [
    "train_data.dtypes"
   ]
  },
  {
   "cell_type": "code",
   "execution_count": 113,
   "metadata": {},
   "outputs": [
    {
     "name": "stdout",
     "output_type": "stream",
     "text": [
      "(7000, 24)\n",
      "(3000, 24)\n"
     ]
    }
   ],
   "source": [
    "from sklearn.model_selection import train_test_split\n",
    "X = train_data.drop(['click'],axis=1)\n",
    "y = train_data.click\n",
    "X_train, X_test, y_train, y_test = train_test_split(X, y, test_size=0.3, random_state=42)\n",
    "\n",
    "train_data = pd.concat([y_train,X_train],axis=1)\n",
    "test_data = pd.concat([y_test,X_test],axis=1)\n",
    "\n",
    "print (train_data.shape)\n",
    "print (test_data.shape)"
   ]
  },
  {
   "cell_type": "code",
   "execution_count": 114,
   "metadata": {},
   "outputs": [
    {
     "name": "stdout",
     "output_type": "stream",
     "text": [
      "(7000, 9)\n",
      "(3000, 9)\n"
     ]
    }
   ],
   "source": [
    "c_col_tr = train_data[:][['C1','C14','C15','C16','C17','C18','C19','C20','C21']]\n",
    "c_col_te = test_data[:][['C1','C14','C15','C16','C17','C18','C19','C20','C21']]\n",
    "\n",
    "print (c_col_tr.shape)\n",
    "print (c_col_te.shape)"
   ]
  },
  {
   "cell_type": "code",
   "execution_count": 115,
   "metadata": {},
   "outputs": [
    {
     "name": "stdout",
     "output_type": "stream",
     "text": [
      "(7000, 9)\n",
      "(3000, 9)\n"
     ]
    }
   ],
   "source": [
    "from sklearn import preprocessing \n",
    "c_col_std_tr = pd.DataFrame(preprocessing.scale(c_col_tr, axis=0, with_mean=True,with_std=True,copy=True),\n",
    "                         columns=['C1_std','C14_std','C15_std','C16_std','C17_std','C18_std',\n",
    "                                  'C19_std','C20_std','C21_std'])\n",
    "\n",
    "c_col_std_te = pd.DataFrame(preprocessing.scale(c_col_te, axis=0, with_mean=True,with_std=True,copy=True),\n",
    "                         columns=['C1_std','C14_std','C15_std','C16_std','C17_std','C18_std',\n",
    "                                  'C19_std','C20_std','C21_std'])\n",
    "\n",
    "print (c_col_std_tr.shape)\n",
    "print (c_col_std_te.shape)"
   ]
  },
  {
   "cell_type": "code",
   "execution_count": 79,
   "metadata": {},
   "outputs": [],
   "source": [
    "#print train_data.isnull().sum()\n",
    "#print test_data.isnull().sum() \n",
    "# 都沒有遺失值，不需要補值"
   ]
  },
  {
   "cell_type": "code",
   "execution_count": 69,
   "metadata": {},
   "outputs": [],
   "source": [
    "#c_col_std_tr.describe()\n",
    "# mean = 0 std = 1"
   ]
  },
  {
   "cell_type": "code",
   "execution_count": 70,
   "metadata": {},
   "outputs": [],
   "source": [
    "#c_col_std_te.describe()\n",
    "# mean = 0 std = 1"
   ]
  },
  {
   "cell_type": "code",
   "execution_count": 116,
   "metadata": {},
   "outputs": [
    {
     "data": {
      "text/plain": [
       "Index([u'click', u'id', u'hour', u'C1', u'banner_pos', u'site_id',\n",
       "       u'site_domain', u'site_category', u'app_id', u'app_domain',\n",
       "       u'app_category', u'device_id', u'device_ip', u'device_model',\n",
       "       u'device_type', u'device_conn_type', u'C14', u'C15', u'C16', u'C17',\n",
       "       u'C18', u'C19', u'C20', u'C21'],\n",
       "      dtype='object')"
      ]
     },
     "execution_count": 116,
     "metadata": {},
     "output_type": "execute_result"
    }
   ],
   "source": [
    "train_data.columns"
   ]
  },
  {
   "cell_type": "code",
   "execution_count": 124,
   "metadata": {},
   "outputs": [
    {
     "name": "stdout",
     "output_type": "stream",
     "text": [
      "RangeIndex(start=0, stop=7000, step=1)\n",
      "RangeIndex(start=0, stop=7000, step=1)\n",
      "(7000, 25)\n"
     ]
    }
   ],
   "source": [
    "train_data_d = train_data.drop(['hour','C1','C14','C15','C16','C17','C18','C19','C20','C21'],axis = 1)\n",
    "train_data_d_r = train_data_d.reset_index()\n",
    "c_col_std_tr_r = c_col_std_tr.reset_index()\n",
    "new_train_data = pd.concat([train_data_d_r,c_col_std_tr_r],axis=1)\n",
    "\n",
    "print (train_data_d_r.index)\n",
    "print (c_col_std_tr_r.index)\n",
    "#print (train_data_d.shape)\n",
    "#print (c_col_std_tr_id.shape)\n",
    "print (new_train_data.shape)\n",
    "\n",
    "test_data_d = test_data.drop(['hour','C1','C14','C15','C16','C17','C18','C19','C20','C21'],axis = 1)\n",
    "test_data_d_r = test_data_d.reset_index()\n",
    "c_col_std_te_r = c_col_std_te.reset_index()\n",
    "new_test_data = pd.concat([test_data_d_r,c_col_std_te_r],axis=1)\n",
    "\n",
    "#test_data_d = test_data.drop(['id','hour','C1','C14','C15','C16','C17','C18','C19','C20','C21'],axis = 1)\n",
    "#new_test_data = pd.concat([test_data_d,c_col_std_te],axis=1)\n",
    "#print (new_test_data.head())"
   ]
  },
  {
   "cell_type": "code",
   "execution_count": 118,
   "metadata": {},
   "outputs": [
    {
     "name": "stdout",
     "output_type": "stream",
     "text": [
      "Index([u'index', u'click', u'id', u'banner_pos', u'site_id', u'site_domain',\n",
      "       u'site_category', u'app_id', u'app_domain', u'app_category',\n",
      "       u'device_id', u'device_ip', u'device_model', u'device_type',\n",
      "       u'device_conn_type', u'index', u'C1_std', u'C14_std', u'C15_std',\n",
      "       u'C16_std', u'C17_std', u'C18_std', u'C19_std', u'C20_std', u'C21_std'],\n",
      "      dtype='object')\n",
      "Index([u'index', u'click', u'id', u'banner_pos', u'site_id', u'site_domain',\n",
      "       u'site_category', u'app_id', u'app_domain', u'app_category',\n",
      "       u'device_id', u'device_ip', u'device_model', u'device_type',\n",
      "       u'device_conn_type', u'index', u'C1_std', u'C14_std', u'C15_std',\n",
      "       u'C16_std', u'C17_std', u'C18_std', u'C19_std', u'C20_std', u'C21_std'],\n",
      "      dtype='object')\n"
     ]
    }
   ],
   "source": [
    "print (new_train_data.columns)\n",
    "print (new_test_data.columns)"
   ]
  },
  {
   "cell_type": "code",
   "execution_count": 119,
   "metadata": {},
   "outputs": [
    {
     "data": {
      "text/plain": [
       "index                 int64\n",
       "click                 int64\n",
       "id                   uint64\n",
       "banner_pos            int64\n",
       "site_id              object\n",
       "site_domain          object\n",
       "site_category        object\n",
       "app_id               object\n",
       "app_domain           object\n",
       "app_category         object\n",
       "device_id            object\n",
       "device_ip            object\n",
       "device_model         object\n",
       "device_type           int64\n",
       "device_conn_type      int64\n",
       "index                 int64\n",
       "C1_std              float64\n",
       "C14_std             float64\n",
       "C15_std             float64\n",
       "C16_std             float64\n",
       "C17_std             float64\n",
       "C18_std             float64\n",
       "C19_std             float64\n",
       "C20_std             float64\n",
       "C21_std             float64\n",
       "dtype: object"
      ]
     },
     "execution_count": 119,
     "metadata": {},
     "output_type": "execute_result"
    }
   ],
   "source": [
    "new_train_data.dtypes"
   ]
  },
  {
   "cell_type": "code",
   "execution_count": 129,
   "metadata": {},
   "outputs": [],
   "source": [
    "num_col_tr = train_data.loc[:,['banner_pos','device_type','device_conn_type','C1_std','C14_std','C15_std',\n",
    "                                'C16_std','C17_std','C18_std','C19_std','C20_std','C21_std']]\n",
    "cat_col_tr = train_data.loc[:,['site_id','site_domain','site_category','app_id','app_domain','app_category',\n",
    "                                'device_id','device_ip','device_model']]\n",
    "all_col_tr = pd.concat([train_data.id,train_data.click,num_col_tr,cat_col_tr],axis=1)\n",
    "\n",
    "\n",
    "num_col_te = train_data.loc[:,['banner_pos','device_type','device_conn_type','C1_std','C14_std','C15_std',\n",
    "                                'C16_std','C17_std','C18_std','C19_std','C20_std','C21_std']]\n",
    "cat_col_te = train_data.loc[:,['site_id','site_domain','site_category','app_id','app_domain','app_category',\n",
    "                                'device_id','device_ip','device_model']]\n",
    "all_col_te = pd.concat([test_data.id,test_data.click,num_col_te,cat_col_te],axis=1)\n",
    "#print num_col_tr.head(3)\n",
    "#print ('-------------------------------------------')\n",
    "#print cat_col_tr.head(3)\n",
    "#print ('-------------------------------------------')\n",
    "#print all_col_tr.head(3)"
   ]
  },
  {
   "cell_type": "code",
   "execution_count": 128,
   "metadata": {},
   "outputs": [],
   "source": [
    "convert_to_ffm(new_train_data,'Train',list(num_col_tr),list(cat_col_tr),list(all_col_tr))"
   ]
  },
  {
   "cell_type": "code",
   "execution_count": 21,
   "metadata": {},
   "outputs": [],
   "source": [
    "#num_col_te = new_train_data.iloc[:,1:13]\n",
    "#cat_col_te = new_train_data.drop(num_col_te,axis=1)\n",
    "#all_col_te = pd.concat([num_col_te,cat_col_te],axis=1)\n",
    "\n",
    "#print num_col_te.head(3)\n",
    "#print ('-------------------------------------------')\n",
    "#print cat_col_te.head(3)\n",
    "#print ('-------------------------------------------')\n",
    "#print all_col_te.head(3)"
   ]
  },
  {
   "cell_type": "code",
   "execution_count": 130,
   "metadata": {},
   "outputs": [],
   "source": [
    "convert_to_ffm(new_test_data,'Test',list(num_col_te),list(cat_col_te),list(all_col_te))"
   ]
  },
  {
   "cell_type": "code",
   "execution_count": 131,
   "metadata": {
    "collapsed": true
   },
   "outputs": [],
   "source": [
    "import xlearn as xl"
   ]
  },
  {
   "cell_type": "code",
   "execution_count": 132,
   "metadata": {
    "collapsed": true
   },
   "outputs": [],
   "source": [
    "# Training task\n",
    "ffm_model = xl.create_ffm() # Use field-aware factorization machine\n",
    "ffm_model.setTrain(\"Train_ffm.txt\")  # Training data\n",
    "ffm_model.setValidate(\"Test_ffm.txt\")  # Validation data\n",
    "\n",
    "# param:\n",
    "#  0. binary classification\n",
    "#  1. learning rate: 0.2\n",
    "#  2. regular lambda: 0.002\n",
    "#  3. evaluation metric: accuracy\n",
    "param = {'task':'binary', 'lr':0.2, \n",
    "         'lambda':0.002, 'metric':'acc'}\n",
    "\n",
    "# Start to train\n",
    "# The trained model will be stored in model.out\n",
    "ffm_model.fit(param, './model.out')\n",
    "\n",
    "# Prediction task\n",
    "ffm_model.setTest(\"Test_ffm.txt\")  # Test data\n",
    "ffm_model.setSigmoid()  # Convert output to 0-1\n",
    "\n",
    "# Start to predict\n",
    "# The output result will be stored in output.txt\n",
    "ffm_model.predict(\"./model.out\", \"./output.txt\")"
   ]
  },
  {
   "cell_type": "markdown",
   "metadata": {},
   "source": [
    "## 資料格式\n",
    "df = Dataframe to be converted to ffm format\n",
    "\n",
    "Type = Train/Test/Val\n",
    "\n",
    "Numerics = list of all numeric fields\n",
    "\n",
    "Categories = list of all categorical fields\n",
    "\n",
    "Features = list of all features except the Label and Id"
   ]
  },
  {
   "cell_type": "code",
   "execution_count": 25,
   "metadata": {
    "collapsed": true
   },
   "outputs": [],
   "source": [
    "# Based on Kaggle kernel by Scirpus\n",
    "def convert_to_ffm(df,type,numerics,categories,features):\n",
    "    currentcode = len(numerics)\n",
    "    catdict = {}\n",
    "    catcodes = {}\n",
    "    # Flagging categorical and numerical fields\n",
    "    for x in numerics:\n",
    "         catdict[x] = 0\n",
    "    for x in categories:\n",
    "         catdict[x] = 1\n",
    "    \n",
    "    nrows = df.shape[0]\n",
    "    ncolumns = len(features)\n",
    "    with open(str(type) + \"_ffm.txt\", \"w\") as text_file:\n",
    "# Looping over rows to convert each row to libffm format\n",
    "        for n,r in enumerate(range(nrows)):\n",
    "            datastring = \"\"\n",
    "            datarow = df.iloc[r].to_dict()\n",
    "            datastring += str(int(datarow['click']))\n",
    "             # For numerical fields, we are creating a dummy field here\n",
    "            for i, x in enumerate(catdict.keys()):\n",
    "                if(catdict[x]==0):\n",
    "                    datastring = datastring + \" \"+str(i)+\":\"+ str(i)+\":\"+ str(datarow[x])\n",
    "                else:\n",
    "            # For a new field appearing in a training example\n",
    "                    if(x not in catcodes):\n",
    "                        catcodes[x] = {}\n",
    "                        currentcode +=1\n",
    "                        catcodes[x][datarow[x]] = currentcode #encoding the feature\n",
    "            # For already encoded fields\n",
    "                    elif(datarow[x] not in catcodes[x]):\n",
    "                        currentcode +=1\n",
    "                        catcodes[x][datarow[x]] = currentcode #encoding the feature\n",
    "                    code = catcodes[x][datarow[x]]\n",
    "                    datastring = datastring + \" \"+str(i)+\":\"+ str(int(code))+\":1\"\n",
    "\n",
    "            datastring += '\\n'\n",
    "            text_file.write(datastring)"
   ]
  },
  {
   "cell_type": "code",
   "execution_count": null,
   "metadata": {
    "collapsed": true
   },
   "outputs": [],
   "source": []
  }
 ],
 "metadata": {
  "kernelspec": {
   "display_name": "Python 2",
   "language": "python",
   "name": "python2"
  },
  "language_info": {
   "codemirror_mode": {
    "name": "ipython",
    "version": 2
   },
   "file_extension": ".py",
   "mimetype": "text/x-python",
   "name": "python",
   "nbconvert_exporter": "python",
   "pygments_lexer": "ipython2",
   "version": "2.7.13"
  }
 },
 "nbformat": 4,
 "nbformat_minor": 2
}
