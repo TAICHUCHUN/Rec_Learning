{
 "cells": [
  {
   "cell_type": "code",
   "execution_count": 1,
   "metadata": {
    "collapsed": true
   },
   "outputs": [],
   "source": [
    "from pyfm import pylibfm\n",
    "import pandas as pd\n",
    "import numpy as np\n",
    "from sklearn.feature_extraction import DictVectorizer\n",
    "import gc"
   ]
  },
  {
   "cell_type": "code",
   "execution_count": 2,
   "metadata": {
    "collapsed": true
   },
   "outputs": [],
   "source": [
    "def FillNa(df):\n",
    "    df=df.copy()\n",
    "    Num_Features=df.select_dtypes(['float','int']).columns.tolist()\n",
    "    Str_Features=df.select_dtypes(['object']).columns.tolist()\n",
    "    df[Str_Features]=df[Str_Features].fillna('NAN')\n",
    "    for i in Num_Features:\n",
    "        df[i]=df[i].fillna(df[i].mean())\n",
    "    return df"
   ]
  },
  {
   "cell_type": "code",
   "execution_count": 3,
   "metadata": {
    "collapsed": true
   },
   "outputs": [],
   "source": [
    "def DropRatioTooSmall(df):\n",
    "    df = df.copy()\n",
    "    length = len(df)\n",
    "    features = [i for i in df.columns]\n",
    "    problemCol = []\n",
    "    for col in features:\n",
    "        print('Start', col)\n",
    "        try:\n",
    "            drop = df[col].isnull().sum()/length >= 0.4 \n",
    "            if drop:\n",
    "                del df[col]\n",
    "                print('Drop ', col) \n",
    "        except:\n",
    "            problemCol.append(col)\n",
    "            print('Have problem in ', col)\n",
    "    return df, problemCol"
   ]
  },
  {
   "cell_type": "code",
   "execution_count": 4,
   "metadata": {
    "collapsed": true
   },
   "outputs": [],
   "source": [
    "def DropTooManyZero(df):\n",
    "    df = df.copy()\n",
    "    length = len(df)\n",
    "    features = [i for i in df.columns]\n",
    "    problemCol = []\n",
    "    for col in features:\n",
    "        print('Start', col)\n",
    "        try:\n",
    "            drop = sum(df[col]==0)/length >= 0.99  \n",
    "            if drop:\n",
    "                del df[col]\n",
    "                print('Drop ', col) \n",
    "        except:\n",
    "            problemCol.append(col)\n",
    "            print('Have problem in ', col)\n",
    "    return df, problemCol"
   ]
  },
  {
   "cell_type": "code",
   "execution_count": 5,
   "metadata": {
    "collapsed": true
   },
   "outputs": [],
   "source": [
    "train = pd.read_csv('train.csv')"
   ]
  },
  {
   "cell_type": "code",
   "execution_count": 6,
   "metadata": {},
   "outputs": [
    {
     "name": "stdout",
     "output_type": "stream",
     "text": [
      "Start Id\n",
      "Start Label\n",
      "Start I1\n",
      "Drop  I1\n",
      "Start I2\n",
      "Start I3\n",
      "Start I4\n",
      "Start I5\n",
      "Start I6\n",
      "Start I7\n",
      "Start I8\n",
      "Start I9\n",
      "Start I10\n",
      "Drop  I10\n",
      "Start I11\n",
      "Start I12\n",
      "Drop  I12\n",
      "Start I13\n",
      "Start C1\n",
      "Start C2\n",
      "Start C3\n",
      "Start C4\n",
      "Start C5\n",
      "Start C6\n",
      "Start C7\n",
      "Start C8\n",
      "Start C9\n",
      "Start C10\n",
      "Start C11\n",
      "Start C12\n",
      "Start C13\n",
      "Start C14\n",
      "Start C15\n",
      "Start C16\n",
      "Start C17\n",
      "Start C18\n",
      "Start C19\n",
      "Drop  C19\n",
      "Start C20\n",
      "Drop  C20\n",
      "Start C21\n",
      "Start C22\n",
      "Drop  C22\n",
      "Start C23\n",
      "Start C24\n",
      "Start C25\n",
      "Drop  C25\n",
      "Start C26\n",
      "Drop  C26\n"
     ]
    }
   ],
   "source": [
    "train,problemCol = DropRatioTooSmall(train)"
   ]
  },
  {
   "cell_type": "code",
   "execution_count": 7,
   "metadata": {},
   "outputs": [
    {
     "name": "stdout",
     "output_type": "stream",
     "text": [
      "Start Id\n",
      "Start Label\n",
      "Start I2\n",
      "Start I3\n",
      "Start I4\n",
      "Start I5\n",
      "Start I6\n",
      "Start I7\n",
      "Start I8\n",
      "Start I9\n",
      "Start I11\n",
      "Start I13\n",
      "Start C1\n",
      "Start C2\n",
      "Start C3\n",
      "Start C4\n",
      "Start C5\n",
      "Start C6\n",
      "Start C7\n",
      "Start C8\n",
      "Start C9\n",
      "Start C10\n",
      "Start C11\n",
      "Start C12\n",
      "Start C13\n",
      "Start C14\n",
      "Start C15\n",
      "Start C16\n",
      "Start C17\n",
      "Start C18\n",
      "Start C21\n",
      "Start C23\n",
      "Start C24\n"
     ]
    }
   ],
   "source": [
    "train,problemCol = DropRatioTooSmall(train)"
   ]
  },
  {
   "cell_type": "code",
   "execution_count": null,
   "metadata": {
    "collapsed": true
   },
   "outputs": [],
   "source": [
    "train = FillNa(train)"
   ]
  },
  {
   "cell_type": "code",
   "execution_count": 11,
   "metadata": {},
   "outputs": [
    {
     "data": {
      "text/plain": [
       "['Id',\n",
       " 'Label',\n",
       " 'I2',\n",
       " 'I3',\n",
       " 'I4',\n",
       " 'I5',\n",
       " 'I6',\n",
       " 'I7',\n",
       " 'I8',\n",
       " 'I9',\n",
       " 'I11',\n",
       " 'I13',\n",
       " 'C1',\n",
       " 'C2',\n",
       " 'C3',\n",
       " 'C4',\n",
       " 'C5',\n",
       " 'C6',\n",
       " 'C7',\n",
       " 'C8',\n",
       " 'C9',\n",
       " 'C10',\n",
       " 'C11',\n",
       " 'C12',\n",
       " 'C13',\n",
       " 'C14',\n",
       " 'C15',\n",
       " 'C16',\n",
       " 'C17',\n",
       " 'C18',\n",
       " 'C21',\n",
       " 'C23',\n",
       " 'C24']"
      ]
     },
     "execution_count": 11,
     "metadata": {},
     "output_type": "execute_result"
    }
   ],
   "source": [
    "train.columns.tolist()"
   ]
  },
  {
   "cell_type": "code",
   "execution_count": null,
   "metadata": {
    "scrolled": true
   },
   "outputs": [],
   "source": [
    "train.info()"
   ]
  },
  {
   "cell_type": "code",
   "execution_count": null,
   "metadata": {},
   "outputs": [],
   "source": [
    "y = train['Label'].values\n",
    "del train['Label']\n",
    "del train['Id']\n",
    "gc.collect()"
   ]
  },
  {
   "cell_type": "code",
   "execution_count": null,
   "metadata": {},
   "outputs": [],
   "source": [
    "train.head()"
   ]
  },
  {
   "cell_type": "code",
   "execution_count": null,
   "metadata": {
    "collapsed": true
   },
   "outputs": [],
   "source": [
    "X = train.loc[:,'C1':].to_dict('records')\n",
    "v = DictVectorizer()\n",
    "X = v.fit_transform(X)"
   ]
  },
  {
   "cell_type": "code",
   "execution_count": null,
   "metadata": {},
   "outputs": [],
   "source": [
    "X.toarray().shape"
   ]
  },
  {
   "cell_type": "code",
   "execution_count": null,
   "metadata": {},
   "outputs": [],
   "source": [
    "fm = pylibfm.FM(initial_learning_rate=0.001,num_factors=50,num_iter=10)\n",
    "fm.fit(X,y)"
   ]
  },
  {
   "cell_type": "code",
   "execution_count": null,
   "metadata": {},
   "outputs": [],
   "source": [
    "fm.predict(v.transform({\"C1\": \"4\", \"C12\": \"37c9c164\", \"C15\": '6dc710ed'}))"
   ]
  },
  {
   "cell_type": "code",
   "execution_count": null,
   "metadata": {
    "collapsed": true
   },
   "outputs": [],
   "source": []
  },
  {
   "cell_type": "code",
   "execution_count": null,
   "metadata": {
    "collapsed": true
   },
   "outputs": [],
   "source": []
  },
  {
   "cell_type": "code",
   "execution_count": null,
   "metadata": {
    "collapsed": true
   },
   "outputs": [],
   "source": []
  },
  {
   "cell_type": "code",
   "execution_count": null,
   "metadata": {
    "collapsed": true
   },
   "outputs": [],
   "source": []
  }
 ],
 "metadata": {
  "kernelspec": {
   "display_name": "Python 3",
   "language": "python",
   "name": "python3"
  },
  "language_info": {
   "codemirror_mode": {
    "name": "ipython",
    "version": 3
   },
   "file_extension": ".py",
   "mimetype": "text/x-python",
   "name": "python",
   "nbconvert_exporter": "python",
   "pygments_lexer": "ipython3",
   "version": "3.6.2"
  }
 },
 "nbformat": 4,
 "nbformat_minor": 2
}
