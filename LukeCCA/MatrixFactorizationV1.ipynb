{
 "cells": [
  {
   "cell_type": "code",
   "execution_count": 1,
   "metadata": {},
   "outputs": [
    {
     "name": "stderr",
     "output_type": "stream",
     "text": [
      "Using TensorFlow backend.\n"
     ]
    }
   ],
   "source": [
    "import numpy as np\n",
    "import pandas as pd\n",
    "import keras\n",
    "import gc\n",
    "from keras.layers import Input, Embedding, Flatten, Dot, Add\n",
    "from keras.models import Model\n",
    "from sklearn.preprocessing import LabelEncoder"
   ]
  },
  {
   "cell_type": "code",
   "execution_count": 2,
   "metadata": {
    "collapsed": true
   },
   "outputs": [],
   "source": [
    "lb=LabelEncoder()"
   ]
  },
  {
   "cell_type": "code",
   "execution_count": 3,
   "metadata": {
    "collapsed": true
   },
   "outputs": [],
   "source": [
    "def LabelEncoding_Cat(df):\n",
    "    df=df.copy()\n",
    "    mappingTable = {}\n",
    "    Cat_Var=[i for i in df.columns.tolist() if i != 'Rating']\n",
    "    for col in Cat_Var:\n",
    "        mappingTable[col]={}\n",
    "        rowDist = df[col].unique()\n",
    "        df[col]=lb.fit_transform(df[col].astype('str'))\n",
    "        idx = df[col].unique()\n",
    "        for i, j in zip(idx, rowDist):\n",
    "            mappingTable[col][j] = i \n",
    "        print('Transfrom ', col)\n",
    "    return df ,mappingTable"
   ]
  },
  {
   "cell_type": "code",
   "execution_count": 4,
   "metadata": {
    "collapsed": true
   },
   "outputs": [],
   "source": [
    "train_df = pd.read_csv('train.csv')"
   ]
  },
  {
   "cell_type": "code",
   "execution_count": 5,
   "metadata": {},
   "outputs": [
    {
     "data": {
      "text/html": [
       "<div>\n",
       "<style scoped>\n",
       "    .dataframe tbody tr th:only-of-type {\n",
       "        vertical-align: middle;\n",
       "    }\n",
       "\n",
       "    .dataframe tbody tr th {\n",
       "        vertical-align: top;\n",
       "    }\n",
       "\n",
       "    .dataframe thead th {\n",
       "        text-align: right;\n",
       "    }\n",
       "</style>\n",
       "<table border=\"1\" class=\"dataframe\">\n",
       "  <thead>\n",
       "    <tr style=\"text-align: right;\">\n",
       "      <th></th>\n",
       "      <th>UserID</th>\n",
       "      <th>MovieID</th>\n",
       "      <th>Rating</th>\n",
       "    </tr>\n",
       "  </thead>\n",
       "  <tbody>\n",
       "    <tr>\n",
       "      <th>0</th>\n",
       "      <td>796</td>\n",
       "      <td>1193</td>\n",
       "      <td>5</td>\n",
       "    </tr>\n",
       "    <tr>\n",
       "      <th>1</th>\n",
       "      <td>796</td>\n",
       "      <td>661</td>\n",
       "      <td>3</td>\n",
       "    </tr>\n",
       "    <tr>\n",
       "      <th>2</th>\n",
       "      <td>796</td>\n",
       "      <td>914</td>\n",
       "      <td>3</td>\n",
       "    </tr>\n",
       "    <tr>\n",
       "      <th>3</th>\n",
       "      <td>796</td>\n",
       "      <td>3408</td>\n",
       "      <td>4</td>\n",
       "    </tr>\n",
       "    <tr>\n",
       "      <th>4</th>\n",
       "      <td>796</td>\n",
       "      <td>2355</td>\n",
       "      <td>5</td>\n",
       "    </tr>\n",
       "  </tbody>\n",
       "</table>\n",
       "</div>"
      ],
      "text/plain": [
       "   UserID  MovieID  Rating\n",
       "0     796     1193       5\n",
       "1     796      661       3\n",
       "2     796      914       3\n",
       "3     796     3408       4\n",
       "4     796     2355       5"
      ]
     },
     "execution_count": 5,
     "metadata": {},
     "output_type": "execute_result"
    }
   ],
   "source": [
    "del train_df['TrainDataID']\n",
    "gc.collect()\n",
    "train_df.head()"
   ]
  },
  {
   "cell_type": "code",
   "execution_count": 6,
   "metadata": {},
   "outputs": [
    {
     "name": "stdout",
     "output_type": "stream",
     "text": [
      "Transfrom  UserID\n",
      "Transfrom  MovieID\n"
     ]
    }
   ],
   "source": [
    "train_df, mapping = LabelEncoding_Cat(train_df)"
   ]
  },
  {
   "cell_type": "code",
   "execution_count": 7,
   "metadata": {},
   "outputs": [
    {
     "data": {
      "text/html": [
       "<div>\n",
       "<style scoped>\n",
       "    .dataframe tbody tr th:only-of-type {\n",
       "        vertical-align: middle;\n",
       "    }\n",
       "\n",
       "    .dataframe tbody tr th {\n",
       "        vertical-align: top;\n",
       "    }\n",
       "\n",
       "    .dataframe thead th {\n",
       "        text-align: right;\n",
       "    }\n",
       "</style>\n",
       "<table border=\"1\" class=\"dataframe\">\n",
       "  <thead>\n",
       "    <tr style=\"text-align: right;\">\n",
       "      <th></th>\n",
       "      <th>UserID</th>\n",
       "      <th>MovieID</th>\n",
       "      <th>Rating</th>\n",
       "    </tr>\n",
       "  </thead>\n",
       "  <tbody>\n",
       "    <tr>\n",
       "      <th>0</th>\n",
       "      <td>5814</td>\n",
       "      <td>189</td>\n",
       "      <td>5</td>\n",
       "    </tr>\n",
       "    <tr>\n",
       "      <th>1</th>\n",
       "      <td>5814</td>\n",
       "      <td>3359</td>\n",
       "      <td>3</td>\n",
       "    </tr>\n",
       "    <tr>\n",
       "      <th>2</th>\n",
       "      <td>5814</td>\n",
       "      <td>3597</td>\n",
       "      <td>3</td>\n",
       "    </tr>\n",
       "    <tr>\n",
       "      <th>3</th>\n",
       "      <td>5814</td>\n",
       "      <td>2495</td>\n",
       "      <td>4</td>\n",
       "    </tr>\n",
       "    <tr>\n",
       "      <th>4</th>\n",
       "      <td>5814</td>\n",
       "      <td>1370</td>\n",
       "      <td>5</td>\n",
       "    </tr>\n",
       "  </tbody>\n",
       "</table>\n",
       "</div>"
      ],
      "text/plain": [
       "   UserID  MovieID  Rating\n",
       "0    5814      189       5\n",
       "1    5814     3359       3\n",
       "2    5814     3597       3\n",
       "3    5814     2495       4\n",
       "4    5814     1370       5"
      ]
     },
     "execution_count": 7,
     "metadata": {},
     "output_type": "execute_result"
    }
   ],
   "source": [
    "train_df.head()"
   ]
  },
  {
   "cell_type": "code",
   "execution_count": 8,
   "metadata": {},
   "outputs": [],
   "source": [
    "train = train_df.values\n",
    "np.random.shuffle(train)"
   ]
  },
  {
   "cell_type": "code",
   "execution_count": 9,
   "metadata": {},
   "outputs": [
    {
     "data": {
      "text/plain": [
       "(6040, 3688)"
      ]
     },
     "execution_count": 9,
     "metadata": {},
     "output_type": "execute_result"
    }
   ],
   "source": [
    "train_df.UserID.nunique(),train_df.MovieID.nunique()"
   ]
  },
  {
   "cell_type": "code",
   "execution_count": 10,
   "metadata": {},
   "outputs": [],
   "source": [
    "# Use Tensorflow tensor\n",
    "user_input = Input(shape=(1,),name='User')\n",
    "movie_input = Input(shape=(1,),name='Movie')"
   ]
  },
  {
   "cell_type": "code",
   "execution_count": 11,
   "metadata": {},
   "outputs": [],
   "source": [
    "user_vec = Embedding(train_df.UserID.nunique(), 8, embeddings_initializer='random_normal',name='Wu')(user_input)\n",
    "user_vec = Flatten()(user_vec)\n",
    "movie_vec = Embedding(train_df.MovieID.nunique(), 8,embeddings_initializer='random_normal',name='Wm')(movie_input)\n",
    "movie_vec = Flatten()(movie_vec)"
   ]
  },
  {
   "cell_type": "code",
   "execution_count": 12,
   "metadata": {
    "collapsed": true
   },
   "outputs": [],
   "source": [
    "movie_bias = Embedding(train_df.MovieID.nunique(), 1, embeddings_initializer='zeros',name='Bm')(movie_input)\n",
    "movie_bias = Flatten()(movie_bias)\n",
    "user_bias = Embedding(train_df.UserID.nunique(), 1, embeddings_initializer='zeros',name='Bu')(user_input)\n",
    "user_bias = Flatten()(user_bias)"
   ]
  },
  {
   "cell_type": "code",
   "execution_count": 13,
   "metadata": {},
   "outputs": [],
   "source": [
    "r_hat = Dot(axes=1)([user_vec, movie_vec])\n",
    "r_hat = Add()([r_hat, user_bias])\n",
    "r_hat = Add()([r_hat, movie_bias])\n",
    "model = Model([user_input, movie_input], r_hat)\n",
    "model.compile(loss='mse',optimizer='sgd')"
   ]
  },
  {
   "cell_type": "code",
   "execution_count": 14,
   "metadata": {},
   "outputs": [
    {
     "name": "stdout",
     "output_type": "stream",
     "text": [
      "__________________________________________________________________________________________________\n",
      "Layer (type)                    Output Shape         Param #     Connected to                     \n",
      "==================================================================================================\n",
      "User (InputLayer)               (None, 1)            0                                            \n",
      "__________________________________________________________________________________________________\n",
      "Movie (InputLayer)              (None, 1)            0                                            \n",
      "__________________________________________________________________________________________________\n",
      "Wu (Embedding)                  (None, 1, 8)         48320       User[0][0]                       \n",
      "__________________________________________________________________________________________________\n",
      "Wm (Embedding)                  (None, 1, 8)         29504       Movie[0][0]                      \n",
      "__________________________________________________________________________________________________\n",
      "flatten_1 (Flatten)             (None, 8)            0           Wu[0][0]                         \n",
      "__________________________________________________________________________________________________\n",
      "flatten_2 (Flatten)             (None, 8)            0           Wm[0][0]                         \n",
      "__________________________________________________________________________________________________\n",
      "Bu (Embedding)                  (None, 1, 1)         6040        User[0][0]                       \n",
      "__________________________________________________________________________________________________\n",
      "dot_1 (Dot)                     (None, 1)            0           flatten_1[0][0]                  \n",
      "                                                                 flatten_2[0][0]                  \n",
      "__________________________________________________________________________________________________\n",
      "flatten_4 (Flatten)             (None, 1)            0           Bu[0][0]                         \n",
      "__________________________________________________________________________________________________\n",
      "Bm (Embedding)                  (None, 1, 1)         3688        Movie[0][0]                      \n",
      "__________________________________________________________________________________________________\n",
      "add_1 (Add)                     (None, 1)            0           dot_1[0][0]                      \n",
      "                                                                 flatten_4[0][0]                  \n",
      "__________________________________________________________________________________________________\n",
      "flatten_3 (Flatten)             (None, 1)            0           Bm[0][0]                         \n",
      "__________________________________________________________________________________________________\n",
      "add_2 (Add)                     (None, 1)            0           add_1[0][0]                      \n",
      "                                                                 flatten_3[0][0]                  \n",
      "==================================================================================================\n",
      "Total params: 87,552\n",
      "Trainable params: 87,552\n",
      "Non-trainable params: 0\n",
      "__________________________________________________________________________________________________\n"
     ]
    }
   ],
   "source": [
    "model.summary()"
   ]
  },
  {
   "cell_type": "code",
   "execution_count": 15,
   "metadata": {},
   "outputs": [
    {
     "name": "stdout",
     "output_type": "stream",
     "text": [
      "Epoch 1/10\n",
      " - 18s - loss: 10.5055\n",
      "Epoch 2/10\n",
      " - 18s - loss: 6.2582\n",
      "Epoch 3/10\n",
      " - 20s - loss: 4.2742\n",
      "Epoch 4/10\n",
      " - 17s - loss: 3.2426\n",
      "Epoch 5/10\n",
      " - 16s - loss: 2.6533\n",
      "Epoch 6/10\n",
      " - 16s - loss: 2.2873\n",
      "Epoch 7/10\n",
      " - 14s - loss: 2.0429\n",
      "Epoch 8/10\n",
      " - 14s - loss: 1.8692\n",
      "Epoch 9/10\n",
      " - 14s - loss: 1.7394\n",
      "Epoch 10/10\n",
      " - 14s - loss: 1.6383\n"
     ]
    }
   ],
   "source": [
    "output = model.fit([train[:, 0], train[:, 1]], train[:, 2], batch_size=64, epochs=10, verbose=2)"
   ]
  },
  {
   "cell_type": "code",
   "execution_count": 16,
   "metadata": {},
   "outputs": [
    {
     "data": {
      "text/plain": [
       "[<keras.engine.topology.InputLayer at 0x11defe9e8>,\n",
       " <keras.engine.topology.InputLayer at 0x11defe710>,\n",
       " <keras.layers.embeddings.Embedding at 0x11defe9b0>,\n",
       " <keras.layers.embeddings.Embedding at 0x11c291c50>,\n",
       " <keras.layers.core.Flatten at 0x1101504a8>,\n",
       " <keras.layers.core.Flatten at 0x11def8400>,\n",
       " <keras.layers.embeddings.Embedding at 0x11defee48>,\n",
       " <keras.layers.merge.Dot at 0x11ded2940>,\n",
       " <keras.layers.core.Flatten at 0x11dedc6a0>,\n",
       " <keras.layers.embeddings.Embedding at 0x11dee8400>,\n",
       " <keras.layers.merge.Add at 0x11ded2358>,\n",
       " <keras.layers.core.Flatten at 0x11dee8e80>,\n",
       " <keras.layers.merge.Add at 0x11ded9cf8>]"
      ]
     },
     "execution_count": 16,
     "metadata": {},
     "output_type": "execute_result"
    }
   ],
   "source": [
    "model.layers"
   ]
  },
  {
   "cell_type": "code",
   "execution_count": 17,
   "metadata": {},
   "outputs": [],
   "source": [
    "uesr_embedding = model.layers[2].get_weights()[0]\n",
    "movie_embedding = model.layers[3].get_weights()[0]"
   ]
  },
  {
   "cell_type": "code",
   "execution_count": 18,
   "metadata": {},
   "outputs": [
    {
     "data": {
      "text/plain": [
       "((6040, 8), (3688, 8))"
      ]
     },
     "execution_count": 18,
     "metadata": {},
     "output_type": "execute_result"
    }
   ],
   "source": [
    "uesr_embedding.shape, movie_embedding.shape"
   ]
  },
  {
   "cell_type": "code",
   "execution_count": 19,
   "metadata": {},
   "outputs": [
    {
     "data": {
      "text/plain": [
       "array([[-0.04936188,  0.00449077,  0.02021181, ...,  0.06525329,\n",
       "        -0.02020228, -0.00696586],\n",
       "       [-0.03776457,  0.03246533, -0.11356646, ..., -0.04326073,\n",
       "         0.0508648 ,  0.11466761],\n",
       "       [-0.01180263, -0.04633947, -0.03847113, ..., -0.07450321,\n",
       "        -0.01714919, -0.06017509],\n",
       "       ...,\n",
       "       [ 0.04125899, -0.10075564,  0.03646569, ...,  0.04375195,\n",
       "        -0.01770937,  0.01858334],\n",
       "       [-0.04973083,  0.0032155 , -0.04741767, ..., -0.00476364,\n",
       "         0.00203702,  0.05242538],\n",
       "       [ 0.06710503, -0.05897513, -0.00228288, ...,  0.03370593,\n",
       "        -0.00981954, -0.0022861 ]], dtype=float32)"
      ]
     },
     "execution_count": 19,
     "metadata": {},
     "output_type": "execute_result"
    }
   ],
   "source": [
    "uesr_embedding"
   ]
  },
  {
   "cell_type": "code",
   "execution_count": 20,
   "metadata": {
    "scrolled": true
   },
   "outputs": [
    {
     "data": {
      "text/plain": [
       "array([[-0.07829513,  0.00616422,  0.00962315, ...,  0.01688451,\n",
       "         0.06251603,  0.00622967],\n",
       "       [-0.02567048,  0.05743589, -0.03408841, ..., -0.06112809,\n",
       "        -0.01131272, -0.09059291],\n",
       "       [-0.05518647, -0.03821751, -0.09248856, ..., -0.03937665,\n",
       "         0.01054341,  0.00682454],\n",
       "       ...,\n",
       "       [ 0.07430061,  0.07331047,  0.05453219, ...,  0.01108829,\n",
       "        -0.00013804, -0.07382252],\n",
       "       [-0.01174863, -0.040372  ,  0.02966973, ..., -0.04910225,\n",
       "        -0.03804779, -0.02898551],\n",
       "       [ 0.00516372, -0.09503576,  0.02831763, ...,  0.04336522,\n",
       "         0.02344754, -0.03695222]], dtype=float32)"
      ]
     },
     "execution_count": 20,
     "metadata": {},
     "output_type": "execute_result"
    }
   ],
   "source": [
    "movie_embedding"
   ]
  },
  {
   "cell_type": "code",
   "execution_count": 21,
   "metadata": {},
   "outputs": [],
   "source": [
    "y_hat = model.predict([train[:, 0], train[:, 1]])"
   ]
  },
  {
   "cell_type": "code",
   "execution_count": 24,
   "metadata": {},
   "outputs": [
    {
     "data": {
      "text/plain": [
       "array([[4.110096  ],\n",
       "       [2.9542813 ],\n",
       "       [0.82525826],\n",
       "       ...,\n",
       "       [3.782424  ],\n",
       "       [0.93773264],\n",
       "       [2.4136903 ]], dtype=float32)"
      ]
     },
     "execution_count": 24,
     "metadata": {},
     "output_type": "execute_result"
    }
   ],
   "source": [
    "y_hat"
   ]
  },
  {
   "cell_type": "code",
   "execution_count": null,
   "metadata": {
    "collapsed": true
   },
   "outputs": [],
   "source": []
  }
 ],
 "metadata": {
  "kernelspec": {
   "display_name": "tensorflow",
   "language": "python",
   "name": "tensorflow"
  },
  "language_info": {
   "codemirror_mode": {
    "name": "ipython",
    "version": 3
   },
   "file_extension": ".py",
   "mimetype": "text/x-python",
   "name": "python",
   "nbconvert_exporter": "python",
   "pygments_lexer": "ipython3",
   "version": "3.5.4"
  }
 },
 "nbformat": 4,
 "nbformat_minor": 2
}
