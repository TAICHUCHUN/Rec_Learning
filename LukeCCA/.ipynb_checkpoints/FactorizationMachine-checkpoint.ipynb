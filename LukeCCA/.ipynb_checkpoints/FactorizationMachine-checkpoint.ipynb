{
 "cells": [
  {
   "cell_type": "code",
   "execution_count": 3,
   "metadata": {
    "collapsed": false
   },
   "outputs": [],
   "source": [
    "import numpy as np\n",
    "import pandas as pd\n",
    "from sklearn.base import BaseEstimator\n",
    "from keras.layers import Input, Embedding, Dense, Flatten, Add, Dot\n",
    "from keras.models import Model\n",
    "from keras.regularizers import Regularizer\n",
    "from keras import initializers\n",
    "import itertools\n",
    "import gc\n",
    "from sklearn.preprocessing import LabelEncoder"
   ]
  },
  {
   "cell_type": "code",
   "execution_count": 4,
   "metadata": {
    "collapsed": true
   },
   "outputs": [],
   "source": [
    "lb=LabelEncoder()"
   ]
  },
  {
   "cell_type": "code",
   "execution_count": 5,
   "metadata": {
    "collapsed": true
   },
   "outputs": [],
   "source": [
    "def LabelEncoding_Cat(df):\n",
    "    df=df.copy()\n",
    "    mappingTable = {}\n",
    "    Cat_Var=[i for i in df.columns.tolist() if i != 'Rating']\n",
    "    for col in Cat_Var:\n",
    "        mappingTable[col]={}\n",
    "        rowDist = df[col].unique()\n",
    "        df[col]=lb.fit_transform(df[col].astype('str'))\n",
    "        idx = df[col].unique()\n",
    "        for i, j in zip(idx, rowDist):\n",
    "            mappingTable[col][j] = i \n",
    "        print('Transfrom ', col)\n",
    "    return df ,mappingTable"
   ]
  },
  {
   "cell_type": "code",
   "execution_count": 6,
   "metadata": {
    "collapsed": true
   },
   "outputs": [],
   "source": [
    "train_df = pd.read_csv('train.csv')"
   ]
  },
  {
   "cell_type": "code",
   "execution_count": 7,
   "metadata": {
    "collapsed": false
   },
   "outputs": [
    {
     "data": {
      "text/html": [
       "<div>\n",
       "<table border=\"1\" class=\"dataframe\">\n",
       "  <thead>\n",
       "    <tr style=\"text-align: right;\">\n",
       "      <th></th>\n",
       "      <th>UserID</th>\n",
       "      <th>MovieID</th>\n",
       "      <th>Rating</th>\n",
       "    </tr>\n",
       "  </thead>\n",
       "  <tbody>\n",
       "    <tr>\n",
       "      <th>0</th>\n",
       "      <td>796</td>\n",
       "      <td>1193</td>\n",
       "      <td>5</td>\n",
       "    </tr>\n",
       "    <tr>\n",
       "      <th>1</th>\n",
       "      <td>796</td>\n",
       "      <td>661</td>\n",
       "      <td>3</td>\n",
       "    </tr>\n",
       "    <tr>\n",
       "      <th>2</th>\n",
       "      <td>796</td>\n",
       "      <td>914</td>\n",
       "      <td>3</td>\n",
       "    </tr>\n",
       "    <tr>\n",
       "      <th>3</th>\n",
       "      <td>796</td>\n",
       "      <td>3408</td>\n",
       "      <td>4</td>\n",
       "    </tr>\n",
       "    <tr>\n",
       "      <th>4</th>\n",
       "      <td>796</td>\n",
       "      <td>2355</td>\n",
       "      <td>5</td>\n",
       "    </tr>\n",
       "  </tbody>\n",
       "</table>\n",
       "</div>"
      ],
      "text/plain": [
       "   UserID  MovieID  Rating\n",
       "0     796     1193       5\n",
       "1     796      661       3\n",
       "2     796      914       3\n",
       "3     796     3408       4\n",
       "4     796     2355       5"
      ]
     },
     "execution_count": 7,
     "metadata": {},
     "output_type": "execute_result"
    }
   ],
   "source": [
    "del train_df['TrainDataID']\n",
    "gc.collect()\n",
    "train_df.head()"
   ]
  },
  {
   "cell_type": "code",
   "execution_count": 8,
   "metadata": {
    "collapsed": false
   },
   "outputs": [
    {
     "name": "stderr",
     "output_type": "stream",
     "text": [
      "/usr/local/lib/python2.7/site-packages/ipykernel/__main__.py:1: ParserWarning: Falling back to the 'python' engine because the 'c' engine does not support regex separators (separators > 1 char and different from '\\s+' are interpreted as regex); you can avoid this warning by specifying engine='python'.\n",
      "  if __name__ == '__main__':\n"
     ]
    }
   ],
   "source": [
    "movie = pd.read_csv('movies.csv',delimiter=\"::\")"
   ]
  },
  {
   "cell_type": "code",
   "execution_count": 9,
   "metadata": {
    "collapsed": true
   },
   "outputs": [],
   "source": [
    "movie['Genres'] = movie.Genres.apply(lambda x : x.split(\"|\"))"
   ]
  },
  {
   "cell_type": "code",
   "execution_count": 10,
   "metadata": {
    "collapsed": true
   },
   "outputs": [],
   "source": [
    "data = []\n",
    "for row in movie.values:\n",
    "    for Genres in row[2]:\n",
    "        data.append([row[0],row[1],Genres])"
   ]
  },
  {
   "cell_type": "code",
   "execution_count": 11,
   "metadata": {
    "collapsed": true
   },
   "outputs": [],
   "source": [
    "movie = pd.DataFrame(data,columns=movie.columns)"
   ]
  },
  {
   "cell_type": "code",
   "execution_count": 12,
   "metadata": {
    "collapsed": false,
    "scrolled": true
   },
   "outputs": [
    {
     "data": {
      "text/plain": [
       "7"
      ]
     },
     "execution_count": 12,
     "metadata": {},
     "output_type": "execute_result"
    }
   ],
   "source": [
    "del data\n",
    "del movie['Title']\n",
    "gc.collect()"
   ]
  },
  {
   "cell_type": "code",
   "execution_count": 13,
   "metadata": {
    "collapsed": false
   },
   "outputs": [
    {
     "name": "stderr",
     "output_type": "stream",
     "text": [
      "/usr/local/lib/python2.7/site-packages/ipykernel/__main__.py:1: ParserWarning: Falling back to the 'python' engine because the 'c' engine does not support regex separators (separators > 1 char and different from '\\s+' are interpreted as regex); you can avoid this warning by specifying engine='python'.\n",
      "  if __name__ == '__main__':\n"
     ]
    }
   ],
   "source": [
    "user = pd.read_csv('users.csv',delimiter=\"::\")"
   ]
  },
  {
   "cell_type": "code",
   "execution_count": 14,
   "metadata": {
    "collapsed": false
   },
   "outputs": [
    {
     "data": {
      "text/html": [
       "<div>\n",
       "<table border=\"1\" class=\"dataframe\">\n",
       "  <thead>\n",
       "    <tr style=\"text-align: right;\">\n",
       "      <th></th>\n",
       "      <th>UserID</th>\n",
       "      <th>Gender</th>\n",
       "      <th>Age</th>\n",
       "      <th>Occupation</th>\n",
       "      <th>Zip-code</th>\n",
       "    </tr>\n",
       "  </thead>\n",
       "  <tbody>\n",
       "    <tr>\n",
       "      <th>0</th>\n",
       "      <td>796</td>\n",
       "      <td>F</td>\n",
       "      <td>1</td>\n",
       "      <td>10</td>\n",
       "      <td>48067</td>\n",
       "    </tr>\n",
       "    <tr>\n",
       "      <th>1</th>\n",
       "      <td>3203</td>\n",
       "      <td>M</td>\n",
       "      <td>56</td>\n",
       "      <td>16</td>\n",
       "      <td>70072</td>\n",
       "    </tr>\n",
       "    <tr>\n",
       "      <th>2</th>\n",
       "      <td>4387</td>\n",
       "      <td>M</td>\n",
       "      <td>25</td>\n",
       "      <td>15</td>\n",
       "      <td>55117</td>\n",
       "    </tr>\n",
       "    <tr>\n",
       "      <th>3</th>\n",
       "      <td>4771</td>\n",
       "      <td>M</td>\n",
       "      <td>45</td>\n",
       "      <td>7</td>\n",
       "      <td>02460</td>\n",
       "    </tr>\n",
       "    <tr>\n",
       "      <th>4</th>\n",
       "      <td>1191</td>\n",
       "      <td>M</td>\n",
       "      <td>25</td>\n",
       "      <td>20</td>\n",
       "      <td>55455</td>\n",
       "    </tr>\n",
       "  </tbody>\n",
       "</table>\n",
       "</div>"
      ],
      "text/plain": [
       "   UserID Gender  Age  Occupation Zip-code\n",
       "0     796      F    1          10    48067\n",
       "1    3203      M   56          16    70072\n",
       "2    4387      M   25          15    55117\n",
       "3    4771      M   45           7    02460\n",
       "4    1191      M   25          20    55455"
      ]
     },
     "execution_count": 14,
     "metadata": {},
     "output_type": "execute_result"
    }
   ],
   "source": [
    "user.head()"
   ]
  },
  {
   "cell_type": "code",
   "execution_count": 15,
   "metadata": {
    "collapsed": true
   },
   "outputs": [],
   "source": [
    "user['Age'] = user['Age'].apply(lambda x : int(x*0.1)*10)"
   ]
  },
  {
   "cell_type": "code",
   "execution_count": 16,
   "metadata": {
    "collapsed": true
   },
   "outputs": [],
   "source": [
    "train_df = (train_df.merge(user,on='UserID',how='left')\n",
    "            .merge(movie,left_on='MovieID', right_on='movieID',how='left')\n",
    "        )"
   ]
  },
  {
   "cell_type": "code",
   "execution_count": 17,
   "metadata": {
    "collapsed": false
   },
   "outputs": [
    {
     "data": {
      "text/html": [
       "<div>\n",
       "<table border=\"1\" class=\"dataframe\">\n",
       "  <thead>\n",
       "    <tr style=\"text-align: right;\">\n",
       "      <th></th>\n",
       "      <th>UserID</th>\n",
       "      <th>MovieID</th>\n",
       "      <th>Rating</th>\n",
       "      <th>Gender</th>\n",
       "      <th>Age</th>\n",
       "      <th>Occupation</th>\n",
       "      <th>Zip-code</th>\n",
       "      <th>movieID</th>\n",
       "      <th>Genres</th>\n",
       "    </tr>\n",
       "  </thead>\n",
       "  <tbody>\n",
       "    <tr>\n",
       "      <th>0</th>\n",
       "      <td>796</td>\n",
       "      <td>1193</td>\n",
       "      <td>5</td>\n",
       "      <td>F</td>\n",
       "      <td>0</td>\n",
       "      <td>10</td>\n",
       "      <td>48067</td>\n",
       "      <td>1193</td>\n",
       "      <td>Drama</td>\n",
       "    </tr>\n",
       "    <tr>\n",
       "      <th>1</th>\n",
       "      <td>796</td>\n",
       "      <td>661</td>\n",
       "      <td>3</td>\n",
       "      <td>F</td>\n",
       "      <td>0</td>\n",
       "      <td>10</td>\n",
       "      <td>48067</td>\n",
       "      <td>661</td>\n",
       "      <td>Animation</td>\n",
       "    </tr>\n",
       "    <tr>\n",
       "      <th>2</th>\n",
       "      <td>796</td>\n",
       "      <td>661</td>\n",
       "      <td>3</td>\n",
       "      <td>F</td>\n",
       "      <td>0</td>\n",
       "      <td>10</td>\n",
       "      <td>48067</td>\n",
       "      <td>661</td>\n",
       "      <td>Children's</td>\n",
       "    </tr>\n",
       "    <tr>\n",
       "      <th>3</th>\n",
       "      <td>796</td>\n",
       "      <td>661</td>\n",
       "      <td>3</td>\n",
       "      <td>F</td>\n",
       "      <td>0</td>\n",
       "      <td>10</td>\n",
       "      <td>48067</td>\n",
       "      <td>661</td>\n",
       "      <td>Musical</td>\n",
       "    </tr>\n",
       "    <tr>\n",
       "      <th>4</th>\n",
       "      <td>796</td>\n",
       "      <td>914</td>\n",
       "      <td>3</td>\n",
       "      <td>F</td>\n",
       "      <td>0</td>\n",
       "      <td>10</td>\n",
       "      <td>48067</td>\n",
       "      <td>914</td>\n",
       "      <td>Musical</td>\n",
       "    </tr>\n",
       "  </tbody>\n",
       "</table>\n",
       "</div>"
      ],
      "text/plain": [
       "   UserID  MovieID  Rating Gender  Age  Occupation Zip-code  movieID  \\\n",
       "0     796     1193       5      F    0          10    48067     1193   \n",
       "1     796      661       3      F    0          10    48067      661   \n",
       "2     796      661       3      F    0          10    48067      661   \n",
       "3     796      661       3      F    0          10    48067      661   \n",
       "4     796      914       3      F    0          10    48067      914   \n",
       "\n",
       "       Genres  \n",
       "0       Drama  \n",
       "1   Animation  \n",
       "2  Children's  \n",
       "3     Musical  \n",
       "4     Musical  "
      ]
     },
     "execution_count": 17,
     "metadata": {},
     "output_type": "execute_result"
    }
   ],
   "source": [
    "train_df.head()"
   ]
  },
  {
   "cell_type": "code",
   "execution_count": 18,
   "metadata": {
    "collapsed": true
   },
   "outputs": [],
   "source": [
    "train_y = train_df['Rating'].values"
   ]
  },
  {
   "cell_type": "code",
   "execution_count": 19,
   "metadata": {
    "collapsed": false
   },
   "outputs": [
    {
     "data": {
      "text/html": [
       "<div>\n",
       "<table border=\"1\" class=\"dataframe\">\n",
       "  <thead>\n",
       "    <tr style=\"text-align: right;\">\n",
       "      <th></th>\n",
       "      <th>UserID</th>\n",
       "      <th>MovieID</th>\n",
       "      <th>Rating</th>\n",
       "      <th>Gender</th>\n",
       "      <th>Age</th>\n",
       "      <th>Occupation</th>\n",
       "      <th>Zip-code</th>\n",
       "      <th>movieID</th>\n",
       "      <th>Genres</th>\n",
       "    </tr>\n",
       "  </thead>\n",
       "  <tbody>\n",
       "    <tr>\n",
       "      <th>0</th>\n",
       "      <td>796</td>\n",
       "      <td>1193</td>\n",
       "      <td>5</td>\n",
       "      <td>F</td>\n",
       "      <td>0</td>\n",
       "      <td>10</td>\n",
       "      <td>48067</td>\n",
       "      <td>1193</td>\n",
       "      <td>Drama</td>\n",
       "    </tr>\n",
       "    <tr>\n",
       "      <th>1</th>\n",
       "      <td>796</td>\n",
       "      <td>661</td>\n",
       "      <td>3</td>\n",
       "      <td>F</td>\n",
       "      <td>0</td>\n",
       "      <td>10</td>\n",
       "      <td>48067</td>\n",
       "      <td>661</td>\n",
       "      <td>Animation</td>\n",
       "    </tr>\n",
       "    <tr>\n",
       "      <th>2</th>\n",
       "      <td>796</td>\n",
       "      <td>661</td>\n",
       "      <td>3</td>\n",
       "      <td>F</td>\n",
       "      <td>0</td>\n",
       "      <td>10</td>\n",
       "      <td>48067</td>\n",
       "      <td>661</td>\n",
       "      <td>Children's</td>\n",
       "    </tr>\n",
       "    <tr>\n",
       "      <th>3</th>\n",
       "      <td>796</td>\n",
       "      <td>661</td>\n",
       "      <td>3</td>\n",
       "      <td>F</td>\n",
       "      <td>0</td>\n",
       "      <td>10</td>\n",
       "      <td>48067</td>\n",
       "      <td>661</td>\n",
       "      <td>Musical</td>\n",
       "    </tr>\n",
       "    <tr>\n",
       "      <th>4</th>\n",
       "      <td>796</td>\n",
       "      <td>914</td>\n",
       "      <td>3</td>\n",
       "      <td>F</td>\n",
       "      <td>0</td>\n",
       "      <td>10</td>\n",
       "      <td>48067</td>\n",
       "      <td>914</td>\n",
       "      <td>Musical</td>\n",
       "    </tr>\n",
       "  </tbody>\n",
       "</table>\n",
       "</div>"
      ],
      "text/plain": [
       "   UserID  MovieID  Rating Gender  Age  Occupation Zip-code  movieID  \\\n",
       "0     796     1193       5      F    0          10    48067     1193   \n",
       "1     796      661       3      F    0          10    48067      661   \n",
       "2     796      661       3      F    0          10    48067      661   \n",
       "3     796      661       3      F    0          10    48067      661   \n",
       "4     796      914       3      F    0          10    48067      914   \n",
       "\n",
       "       Genres  \n",
       "0       Drama  \n",
       "1   Animation  \n",
       "2  Children's  \n",
       "3     Musical  \n",
       "4     Musical  "
      ]
     },
     "execution_count": 19,
     "metadata": {},
     "output_type": "execute_result"
    }
   ],
   "source": [
    "train_df.head()"
   ]
  },
  {
   "cell_type": "code",
   "execution_count": 20,
   "metadata": {
    "collapsed": false
   },
   "outputs": [
    {
     "data": {
      "text/plain": [
       "81"
      ]
     },
     "execution_count": 20,
     "metadata": {},
     "output_type": "execute_result"
    }
   ],
   "source": [
    "del train_df['movieID']\n",
    "gc.collect()"
   ]
  },
  {
   "cell_type": "code",
   "execution_count": 21,
   "metadata": {
    "collapsed": false
   },
   "outputs": [
    {
     "name": "stdout",
     "output_type": "stream",
     "text": [
      "('Transfrom ', 'UserID')\n",
      "('Transfrom ', 'MovieID')\n",
      "('Transfrom ', 'Gender')\n",
      "('Transfrom ', 'Age')\n",
      "('Transfrom ', 'Occupation')\n",
      "('Transfrom ', 'Zip-code')\n",
      "('Transfrom ', 'Genres')\n"
     ]
    }
   ],
   "source": [
    "train_df, mapping = LabelEncoding_Cat(train_df)"
   ]
  },
  {
   "cell_type": "code",
   "execution_count": 22,
   "metadata": {
    "collapsed": false
   },
   "outputs": [
    {
     "data": {
      "text/html": [
       "<div>\n",
       "<table border=\"1\" class=\"dataframe\">\n",
       "  <thead>\n",
       "    <tr style=\"text-align: right;\">\n",
       "      <th></th>\n",
       "      <th>UserID</th>\n",
       "      <th>MovieID</th>\n",
       "      <th>Rating</th>\n",
       "      <th>Gender</th>\n",
       "      <th>Age</th>\n",
       "      <th>Occupation</th>\n",
       "      <th>Zip-code</th>\n",
       "      <th>Genres</th>\n",
       "    </tr>\n",
       "  </thead>\n",
       "  <tbody>\n",
       "    <tr>\n",
       "      <th>0</th>\n",
       "      <td>5814</td>\n",
       "      <td>189</td>\n",
       "      <td>5</td>\n",
       "      <td>0</td>\n",
       "      <td>0</td>\n",
       "      <td>2</td>\n",
       "      <td>1588</td>\n",
       "      <td>7</td>\n",
       "    </tr>\n",
       "    <tr>\n",
       "      <th>1</th>\n",
       "      <td>5814</td>\n",
       "      <td>3359</td>\n",
       "      <td>3</td>\n",
       "      <td>0</td>\n",
       "      <td>0</td>\n",
       "      <td>2</td>\n",
       "      <td>1588</td>\n",
       "      <td>2</td>\n",
       "    </tr>\n",
       "    <tr>\n",
       "      <th>2</th>\n",
       "      <td>5814</td>\n",
       "      <td>3359</td>\n",
       "      <td>3</td>\n",
       "      <td>0</td>\n",
       "      <td>0</td>\n",
       "      <td>2</td>\n",
       "      <td>1588</td>\n",
       "      <td>3</td>\n",
       "    </tr>\n",
       "    <tr>\n",
       "      <th>3</th>\n",
       "      <td>5814</td>\n",
       "      <td>3359</td>\n",
       "      <td>3</td>\n",
       "      <td>0</td>\n",
       "      <td>0</td>\n",
       "      <td>2</td>\n",
       "      <td>1588</td>\n",
       "      <td>11</td>\n",
       "    </tr>\n",
       "    <tr>\n",
       "      <th>4</th>\n",
       "      <td>5814</td>\n",
       "      <td>3597</td>\n",
       "      <td>3</td>\n",
       "      <td>0</td>\n",
       "      <td>0</td>\n",
       "      <td>2</td>\n",
       "      <td>1588</td>\n",
       "      <td>11</td>\n",
       "    </tr>\n",
       "  </tbody>\n",
       "</table>\n",
       "</div>"
      ],
      "text/plain": [
       "   UserID  MovieID  Rating  Gender  Age  Occupation  Zip-code  Genres\n",
       "0    5814      189       5       0    0           2      1588       7\n",
       "1    5814     3359       3       0    0           2      1588       2\n",
       "2    5814     3359       3       0    0           2      1588       3\n",
       "3    5814     3359       3       0    0           2      1588      11\n",
       "4    5814     3597       3       0    0           2      1588      11"
      ]
     },
     "execution_count": 22,
     "metadata": {},
     "output_type": "execute_result"
    }
   ],
   "source": [
    "train_df.head()"
   ]
  },
  {
   "cell_type": "code",
   "execution_count": 23,
   "metadata": {
    "collapsed": true
   },
   "outputs": [],
   "source": [
    "inputs = []\n",
    "flatten_layers=[]\n",
    "max_features = [train_df[col].nunique() for col in train_df.columns.tolist() if col!='Rating']\n",
    "columns = range(len(max_features))\n",
    "l2_fm = 0.001\n",
    "l2 = 0.001\n",
    "\n",
    "for col in columns:\n",
    "    inputs_col = Input(shape=(1,), dtype='int32',name = 'input_%s'%col)\n",
    "    num_col = max_features[col]\n",
    "    embed_col = Embedding(num_col, 10, input_length=1,name = 'embed_%s'%col)(inputs_col)\n",
    "    flatten_col = Flatten()(embed_col)\n",
    "    inputs.append(inputs_col)\n",
    "    flatten_layers.append(flatten_col)\n",
    "    fm_layers = []\n",
    "    for emb1,emb2 in itertools.combinations(flatten_layers, 2):\n",
    "        dot_layer =  Dot(axes=1)([emb1, emb2])\n",
    "        fm_layers.append(dot_layer)\n",
    "for col in columns:\n",
    "        num_col = max_features[col]\n",
    "        embed_col = Embedding(num_col,1,input_length=1,name = 'linear_%s'%col)(inputs[col])\n",
    "        flatten_col = Flatten()(embed_col)\n",
    "        fm_layers.append(flatten_col)\n",
    "        \n",
    "r_hat = Add()(fm_layers)\n",
    "model = Model(inputs, r_hat)\n",
    "model.compile(optimizer='sgd',loss= 'mse')    "
   ]
  },
  {
   "cell_type": "code",
   "execution_count": 24,
   "metadata": {
    "collapsed": false
   },
   "outputs": [
    {
     "name": "stdout",
     "output_type": "stream",
     "text": [
      "____________________________________________________________________________________________________\n",
      "Layer (type)                     Output Shape          Param #     Connected to                     \n",
      "====================================================================================================\n",
      "input_0 (InputLayer)             (None, 1)             0                                            \n",
      "____________________________________________________________________________________________________\n",
      "input_1 (InputLayer)             (None, 1)             0                                            \n",
      "____________________________________________________________________________________________________\n",
      "input_2 (InputLayer)             (None, 1)             0                                            \n",
      "____________________________________________________________________________________________________\n",
      "input_3 (InputLayer)             (None, 1)             0                                            \n",
      "____________________________________________________________________________________________________\n",
      "input_4 (InputLayer)             (None, 1)             0                                            \n",
      "____________________________________________________________________________________________________\n",
      "input_5 (InputLayer)             (None, 1)             0                                            \n",
      "____________________________________________________________________________________________________\n",
      "input_6 (InputLayer)             (None, 1)             0                                            \n",
      "____________________________________________________________________________________________________\n",
      "embed_0 (Embedding)              (None, 1, 10)         60400       input_0[0][0]                    \n",
      "____________________________________________________________________________________________________\n",
      "embed_1 (Embedding)              (None, 1, 10)         36880       input_1[0][0]                    \n",
      "____________________________________________________________________________________________________\n",
      "embed_2 (Embedding)              (None, 1, 10)         20          input_2[0][0]                    \n",
      "____________________________________________________________________________________________________\n",
      "embed_3 (Embedding)              (None, 1, 10)         60          input_3[0][0]                    \n",
      "____________________________________________________________________________________________________\n",
      "embed_4 (Embedding)              (None, 1, 10)         210         input_4[0][0]                    \n",
      "____________________________________________________________________________________________________\n",
      "embed_5 (Embedding)              (None, 1, 10)         34390       input_5[0][0]                    \n",
      "____________________________________________________________________________________________________\n",
      "embed_6 (Embedding)              (None, 1, 10)         180         input_6[0][0]                    \n",
      "____________________________________________________________________________________________________\n",
      "flatten_1 (Flatten)              (None, 10)            0           embed_0[0][0]                    \n",
      "____________________________________________________________________________________________________\n",
      "flatten_2 (Flatten)              (None, 10)            0           embed_1[0][0]                    \n",
      "____________________________________________________________________________________________________\n",
      "flatten_3 (Flatten)              (None, 10)            0           embed_2[0][0]                    \n",
      "____________________________________________________________________________________________________\n",
      "flatten_4 (Flatten)              (None, 10)            0           embed_3[0][0]                    \n",
      "____________________________________________________________________________________________________\n",
      "flatten_5 (Flatten)              (None, 10)            0           embed_4[0][0]                    \n",
      "____________________________________________________________________________________________________\n",
      "flatten_6 (Flatten)              (None, 10)            0           embed_5[0][0]                    \n",
      "____________________________________________________________________________________________________\n",
      "flatten_7 (Flatten)              (None, 10)            0           embed_6[0][0]                    \n",
      "____________________________________________________________________________________________________\n",
      "linear_0 (Embedding)             (None, 1, 1)          6040        input_0[0][0]                    \n",
      "____________________________________________________________________________________________________\n",
      "linear_1 (Embedding)             (None, 1, 1)          3688        input_1[0][0]                    \n",
      "____________________________________________________________________________________________________\n",
      "linear_2 (Embedding)             (None, 1, 1)          2           input_2[0][0]                    \n",
      "____________________________________________________________________________________________________\n",
      "linear_3 (Embedding)             (None, 1, 1)          6           input_3[0][0]                    \n",
      "____________________________________________________________________________________________________\n",
      "linear_4 (Embedding)             (None, 1, 1)          21          input_4[0][0]                    \n",
      "____________________________________________________________________________________________________\n",
      "linear_5 (Embedding)             (None, 1, 1)          3439        input_5[0][0]                    \n",
      "____________________________________________________________________________________________________\n",
      "linear_6 (Embedding)             (None, 1, 1)          18          input_6[0][0]                    \n",
      "____________________________________________________________________________________________________\n",
      "dot_36 (Dot)                     (None, 1)             0           flatten_1[0][0]                  \n",
      "                                                                   flatten_2[0][0]                  \n",
      "____________________________________________________________________________________________________\n",
      "dot_37 (Dot)                     (None, 1)             0           flatten_1[0][0]                  \n",
      "                                                                   flatten_3[0][0]                  \n",
      "____________________________________________________________________________________________________\n",
      "dot_38 (Dot)                     (None, 1)             0           flatten_1[0][0]                  \n",
      "                                                                   flatten_4[0][0]                  \n",
      "____________________________________________________________________________________________________\n",
      "dot_39 (Dot)                     (None, 1)             0           flatten_1[0][0]                  \n",
      "                                                                   flatten_5[0][0]                  \n",
      "____________________________________________________________________________________________________\n",
      "dot_40 (Dot)                     (None, 1)             0           flatten_1[0][0]                  \n",
      "                                                                   flatten_6[0][0]                  \n",
      "____________________________________________________________________________________________________\n",
      "dot_41 (Dot)                     (None, 1)             0           flatten_1[0][0]                  \n",
      "                                                                   flatten_7[0][0]                  \n",
      "____________________________________________________________________________________________________\n",
      "dot_42 (Dot)                     (None, 1)             0           flatten_2[0][0]                  \n",
      "                                                                   flatten_3[0][0]                  \n",
      "____________________________________________________________________________________________________\n",
      "dot_43 (Dot)                     (None, 1)             0           flatten_2[0][0]                  \n",
      "                                                                   flatten_4[0][0]                  \n",
      "____________________________________________________________________________________________________\n",
      "dot_44 (Dot)                     (None, 1)             0           flatten_2[0][0]                  \n",
      "                                                                   flatten_5[0][0]                  \n",
      "____________________________________________________________________________________________________\n",
      "dot_45 (Dot)                     (None, 1)             0           flatten_2[0][0]                  \n",
      "                                                                   flatten_6[0][0]                  \n",
      "____________________________________________________________________________________________________\n",
      "dot_46 (Dot)                     (None, 1)             0           flatten_2[0][0]                  \n",
      "                                                                   flatten_7[0][0]                  \n",
      "____________________________________________________________________________________________________\n",
      "dot_47 (Dot)                     (None, 1)             0           flatten_3[0][0]                  \n",
      "                                                                   flatten_4[0][0]                  \n",
      "____________________________________________________________________________________________________\n",
      "dot_48 (Dot)                     (None, 1)             0           flatten_3[0][0]                  \n",
      "                                                                   flatten_5[0][0]                  \n",
      "____________________________________________________________________________________________________\n",
      "dot_49 (Dot)                     (None, 1)             0           flatten_3[0][0]                  \n",
      "                                                                   flatten_6[0][0]                  \n",
      "____________________________________________________________________________________________________\n",
      "dot_50 (Dot)                     (None, 1)             0           flatten_3[0][0]                  \n",
      "                                                                   flatten_7[0][0]                  \n",
      "____________________________________________________________________________________________________\n",
      "dot_51 (Dot)                     (None, 1)             0           flatten_4[0][0]                  \n",
      "                                                                   flatten_5[0][0]                  \n",
      "____________________________________________________________________________________________________\n",
      "dot_52 (Dot)                     (None, 1)             0           flatten_4[0][0]                  \n",
      "                                                                   flatten_6[0][0]                  \n",
      "____________________________________________________________________________________________________\n",
      "dot_53 (Dot)                     (None, 1)             0           flatten_4[0][0]                  \n",
      "                                                                   flatten_7[0][0]                  \n",
      "____________________________________________________________________________________________________\n",
      "dot_54 (Dot)                     (None, 1)             0           flatten_5[0][0]                  \n",
      "                                                                   flatten_6[0][0]                  \n",
      "____________________________________________________________________________________________________\n",
      "dot_55 (Dot)                     (None, 1)             0           flatten_5[0][0]                  \n",
      "                                                                   flatten_7[0][0]                  \n",
      "____________________________________________________________________________________________________\n",
      "dot_56 (Dot)                     (None, 1)             0           flatten_6[0][0]                  \n",
      "                                                                   flatten_7[0][0]                  \n",
      "____________________________________________________________________________________________________\n",
      "flatten_8 (Flatten)              (None, 1)             0           linear_0[0][0]                   \n",
      "____________________________________________________________________________________________________\n",
      "flatten_9 (Flatten)              (None, 1)             0           linear_1[0][0]                   \n",
      "____________________________________________________________________________________________________\n",
      "flatten_10 (Flatten)             (None, 1)             0           linear_2[0][0]                   \n",
      "____________________________________________________________________________________________________\n",
      "flatten_11 (Flatten)             (None, 1)             0           linear_3[0][0]                   \n",
      "____________________________________________________________________________________________________\n",
      "flatten_12 (Flatten)             (None, 1)             0           linear_4[0][0]                   \n",
      "____________________________________________________________________________________________________\n",
      "flatten_13 (Flatten)             (None, 1)             0           linear_5[0][0]                   \n",
      "____________________________________________________________________________________________________\n",
      "flatten_14 (Flatten)             (None, 1)             0           linear_6[0][0]                   \n",
      "____________________________________________________________________________________________________\n",
      "add_1 (Add)                      (None, 1)             0           dot_36[0][0]                     \n",
      "                                                                   dot_37[0][0]                     \n",
      "                                                                   dot_38[0][0]                     \n",
      "                                                                   dot_39[0][0]                     \n",
      "                                                                   dot_40[0][0]                     \n",
      "                                                                   dot_41[0][0]                     \n",
      "                                                                   dot_42[0][0]                     \n",
      "                                                                   dot_43[0][0]                     \n",
      "                                                                   dot_44[0][0]                     \n",
      "                                                                   dot_45[0][0]                     \n",
      "                                                                   dot_46[0][0]                     \n",
      "                                                                   dot_47[0][0]                     \n",
      "                                                                   dot_48[0][0]                     \n",
      "                                                                   dot_49[0][0]                     \n",
      "                                                                   dot_50[0][0]                     \n",
      "                                                                   dot_51[0][0]                     \n",
      "                                                                   dot_52[0][0]                     \n",
      "                                                                   dot_53[0][0]                     \n",
      "                                                                   dot_54[0][0]                     \n",
      "                                                                   dot_55[0][0]                     \n",
      "                                                                   dot_56[0][0]                     \n",
      "                                                                   flatten_8[0][0]                  \n",
      "                                                                   flatten_9[0][0]                  \n",
      "                                                                   flatten_10[0][0]                 \n",
      "                                                                   flatten_11[0][0]                 \n",
      "                                                                   flatten_12[0][0]                 \n",
      "                                                                   flatten_13[0][0]                 \n",
      "                                                                   flatten_14[0][0]                 \n",
      "====================================================================================================\n",
      "Total params: 145,354\n",
      "Trainable params: 145,354\n",
      "Non-trainable params: 0\n",
      "____________________________________________________________________________________________________\n"
     ]
    }
   ],
   "source": [
    "model.summary()"
   ]
  },
  {
   "cell_type": "code",
   "execution_count": null,
   "metadata": {
    "collapsed": true
   },
   "outputs": [],
   "source": [
    "y_train = train_df.Rating.values\n",
    "x_train = train_df.loc[:,[i for i in train_df.columns.tolist() if i!='Rating']].values\n",
    "x_train = [x_train[:,i] for i in range(x_train.shape[1])]"
   ]
  },
  {
   "cell_type": "code",
   "execution_count": null,
   "metadata": {
    "collapsed": false
   },
   "outputs": [
    {
     "name": "stdout",
     "output_type": "stream",
     "text": [
      "Epoch 1/10\n"
     ]
    }
   ],
   "source": [
    "output = model.fit(x_train, y_train, batch_size=64, epochs=10, verbose=2)"
   ]
  },
  {
   "cell_type": "code",
   "execution_count": null,
   "metadata": {
    "collapsed": true
   },
   "outputs": [],
   "source": [
    "user_embedding = model.layers[7].get_weights()[0]\n",
    "movie_embedding = model.layers[8].get_weights()[0]\n",
    "gender_embedding = model.layers[9].get_weights()[0]\n",
    "age_embedding = model.layers[10].get_weights()[0]\n",
    "occupation_embedding = model.layers[11].get_weights()[0]\n",
    "zib_embedding = model.layers[12].get_weights()[0]\n",
    "genres_embedding = model.layers[13].get_weights()[0]"
   ]
  },
  {
   "cell_type": "code",
   "execution_count": null,
   "metadata": {
    "collapsed": true
   },
   "outputs": [],
   "source": []
  }
 ],
 "metadata": {
  "kernelspec": {
   "display_name": "Python 2",
   "language": "python",
   "name": "python2"
  },
  "language_info": {
   "codemirror_mode": {
    "name": "ipython",
    "version": 2
   },
   "file_extension": ".py",
   "mimetype": "text/x-python",
   "name": "python",
   "nbconvert_exporter": "python",
   "pygments_lexer": "ipython2",
   "version": "2.7.12"
  }
 },
 "nbformat": 4,
 "nbformat_minor": 2
}
