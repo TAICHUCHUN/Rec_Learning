{
 "cells": [
  {
   "cell_type": "code",
   "execution_count": 1,
   "metadata": {},
   "outputs": [
    {
     "name": "stderr",
     "output_type": "stream",
     "text": [
      "Using TensorFlow backend.\n"
     ]
    }
   ],
   "source": [
    "import numpy as np\n",
    "import pandas as pd\n",
    "import keras\n",
    "import gc\n",
    "import scipy.sparse as sparse\n",
    "from scipy.sparse import coo_matrix\n",
    "from keras.layers import Input, Embedding, Flatten, Dot, Add\n",
    "from keras.models import Model"
   ]
  },
  {
   "cell_type": "code",
   "execution_count": 2,
   "metadata": {
    "collapsed": true
   },
   "outputs": [],
   "source": [
    "def OneHotEncoding_Cat(df, deletOrigingCol =True):\n",
    "    df=df.copy()\n",
    "    var = [i for i in df.columns.tolist() if i not in ['Rating','UserID','MovieID','movieID','TrainDataID']]\n",
    "    for col in var:\n",
    "        if (df[col].nunique()>2)|(df[col].dtypes == 'object'):\n",
    "            df[col] = df[col].apply(lambda x : col + \"_\" + str(x))\n",
    "            df = pd.concat([df , pd.get_dummies(df[col])],axis=1)\n",
    "            if deletOrigingCol:\n",
    "                del df[col]\n",
    "            print('Transfrom ', col)\n",
    "    return df    "
   ]
  },
  {
   "cell_type": "code",
   "execution_count": 3,
   "metadata": {
    "collapsed": true
   },
   "outputs": [],
   "source": [
    "train_df = pd.read_csv('train.csv')"
   ]
  },
  {
   "cell_type": "code",
   "execution_count": 4,
   "metadata": {
    "collapsed": true
   },
   "outputs": [],
   "source": [
    "userTrans_dict = {t: i for i, t in enumerate(train_df.UserID.unique())}\n",
    "movieTrans_dict = {t: i for i, t in enumerate(train_df.MovieID.unique())}"
   ]
  },
  {
   "cell_type": "code",
   "execution_count": 5,
   "metadata": {
    "collapsed": true
   },
   "outputs": [],
   "source": [
    "train_df['UserID'] = train_df['UserID'].apply(lambda x : userTrans_dict[x])\n",
    "train_df['MovieID'] = train_df['MovieID'].apply(lambda x : movieTrans_dict[x])"
   ]
  },
  {
   "cell_type": "code",
   "execution_count": 6,
   "metadata": {},
   "outputs": [
    {
     "data": {
      "text/html": [
       "<div>\n",
       "<style scoped>\n",
       "    .dataframe tbody tr th:only-of-type {\n",
       "        vertical-align: middle;\n",
       "    }\n",
       "\n",
       "    .dataframe tbody tr th {\n",
       "        vertical-align: top;\n",
       "    }\n",
       "\n",
       "    .dataframe thead th {\n",
       "        text-align: right;\n",
       "    }\n",
       "</style>\n",
       "<table border=\"1\" class=\"dataframe\">\n",
       "  <thead>\n",
       "    <tr style=\"text-align: right;\">\n",
       "      <th></th>\n",
       "      <th>UserID</th>\n",
       "      <th>MovieID</th>\n",
       "      <th>Rating</th>\n",
       "    </tr>\n",
       "  </thead>\n",
       "  <tbody>\n",
       "    <tr>\n",
       "      <th>0</th>\n",
       "      <td>0</td>\n",
       "      <td>0</td>\n",
       "      <td>5</td>\n",
       "    </tr>\n",
       "    <tr>\n",
       "      <th>1</th>\n",
       "      <td>0</td>\n",
       "      <td>1</td>\n",
       "      <td>3</td>\n",
       "    </tr>\n",
       "    <tr>\n",
       "      <th>2</th>\n",
       "      <td>0</td>\n",
       "      <td>2</td>\n",
       "      <td>3</td>\n",
       "    </tr>\n",
       "    <tr>\n",
       "      <th>3</th>\n",
       "      <td>0</td>\n",
       "      <td>3</td>\n",
       "      <td>4</td>\n",
       "    </tr>\n",
       "    <tr>\n",
       "      <th>4</th>\n",
       "      <td>0</td>\n",
       "      <td>4</td>\n",
       "      <td>5</td>\n",
       "    </tr>\n",
       "  </tbody>\n",
       "</table>\n",
       "</div>"
      ],
      "text/plain": [
       "   UserID  MovieID  Rating\n",
       "0       0        0       5\n",
       "1       0        1       3\n",
       "2       0        2       3\n",
       "3       0        3       4\n",
       "4       0        4       5"
      ]
     },
     "execution_count": 6,
     "metadata": {},
     "output_type": "execute_result"
    }
   ],
   "source": [
    "del train_df['TrainDataID']\n",
    "gc.collect()\n",
    "train_df.head()"
   ]
  },
  {
   "cell_type": "code",
   "execution_count": 7,
   "metadata": {
    "collapsed": true
   },
   "outputs": [],
   "source": [
    "train = train_df.values\n",
    "np.random.shuffle(train)"
   ]
  },
  {
   "cell_type": "code",
   "execution_count": 8,
   "metadata": {},
   "outputs": [
    {
     "data": {
      "text/plain": [
       "(6040, 3688)"
      ]
     },
     "execution_count": 8,
     "metadata": {},
     "output_type": "execute_result"
    }
   ],
   "source": [
    "train_df.UserID.nunique(),train_df.MovieID.nunique()"
   ]
  },
  {
   "cell_type": "code",
   "execution_count": 47,
   "metadata": {
    "collapsed": true
   },
   "outputs": [],
   "source": [
    "# Use Tensorflow tensor\n",
    "user_input = Input(shape=(1,),name='User')\n",
    "movie_input = Input(shape=(1,),name='Movie')"
   ]
  },
  {
   "cell_type": "code",
   "execution_count": 48,
   "metadata": {
    "collapsed": true
   },
   "outputs": [],
   "source": [
    "user_vec = Embedding(train_df.UserID.nunique(), 100, embeddings_initializer='random_normal',embeddings_regularizer='l2',name='Wu')(user_input)\n",
    "user_bias = Embedding(train_df.UserID.nunique(), 1, embeddings_initializer='zeros',name='Bu')(user_input)\n",
    "user_bias = Flatten()(user_bias)"
   ]
  },
  {
   "cell_type": "code",
   "execution_count": 49,
   "metadata": {
    "collapsed": true
   },
   "outputs": [],
   "source": [
    "movie_vec = Embedding(train_df.MovieID.nunique(), 100,embeddings_initializer='random_normal',embeddings_regularizer='l2',name='Wm')(movie_input)\n",
    "movie_bias = Embedding(train_df.MovieID.nunique(), 1, embeddings_initializer='zeros',name='Bm')(movie_input)\n",
    "movie_bias = Flatten()(movie_bias)"
   ]
  },
  {
   "cell_type": "code",
   "execution_count": 50,
   "metadata": {
    "collapsed": true
   },
   "outputs": [],
   "source": [
    "r_hat = Dot(axes=2)([user_vec, movie_vec])\n",
    "r_hat = Flatten()(r_hat)\n",
    "r_hat = Add()([r_hat, user_bias])\n",
    "r_hat = Add()([r_hat, movie_bias])\n",
    "model = Model([user_input, movie_input], r_hat)\n",
    "model.compile(loss='mse',optimizer='sgd')"
   ]
  },
  {
   "cell_type": "code",
   "execution_count": 51,
   "metadata": {},
   "outputs": [
    {
     "name": "stdout",
     "output_type": "stream",
     "text": [
      "__________________________________________________________________________________________________\n",
      "Layer (type)                    Output Shape         Param #     Connected to                     \n",
      "==================================================================================================\n",
      "User (InputLayer)               (None, 1)            0                                            \n",
      "__________________________________________________________________________________________________\n",
      "Movie (InputLayer)              (None, 1)            0                                            \n",
      "__________________________________________________________________________________________________\n",
      "Wu (Embedding)                  (None, 1, 100)       604000      User[0][0]                       \n",
      "__________________________________________________________________________________________________\n",
      "Wm (Embedding)                  (None, 1, 100)       368800      Movie[0][0]                      \n",
      "__________________________________________________________________________________________________\n",
      "dot_5 (Dot)                     (None, 1, 1)         0           Wu[0][0]                         \n",
      "                                                                 Wm[0][0]                         \n",
      "__________________________________________________________________________________________________\n",
      "Bu (Embedding)                  (None, 1, 1)         6040        User[0][0]                       \n",
      "__________________________________________________________________________________________________\n",
      "flatten_13 (Flatten)            (None, 1)            0           dot_5[0][0]                      \n",
      "__________________________________________________________________________________________________\n",
      "flatten_11 (Flatten)            (None, 1)            0           Bu[0][0]                         \n",
      "__________________________________________________________________________________________________\n",
      "Bm (Embedding)                  (None, 1, 1)         3688        Movie[0][0]                      \n",
      "__________________________________________________________________________________________________\n",
      "add_9 (Add)                     (None, 1)            0           flatten_13[0][0]                 \n",
      "                                                                 flatten_11[0][0]                 \n",
      "__________________________________________________________________________________________________\n",
      "flatten_12 (Flatten)            (None, 1)            0           Bm[0][0]                         \n",
      "__________________________________________________________________________________________________\n",
      "add_10 (Add)                    (None, 1)            0           add_9[0][0]                      \n",
      "                                                                 flatten_12[0][0]                 \n",
      "==================================================================================================\n",
      "Total params: 982,528\n",
      "Trainable params: 982,528\n",
      "Non-trainable params: 0\n",
      "__________________________________________________________________________________________________\n"
     ]
    }
   ],
   "source": [
    "model.summary()"
   ]
  },
  {
   "cell_type": "code",
   "execution_count": null,
   "metadata": {},
   "outputs": [
    {
     "name": "stdout",
     "output_type": "stream",
     "text": [
      "Epoch 1/100\n",
      " - 104s - loss: 5.4519\n",
      "Epoch 2/100\n"
     ]
    }
   ],
   "source": [
    "output = model.fit([train[:, 0], train[:, 1]], train[:, 2], batch_size=64, epochs=100, verbose=2)"
   ]
  },
  {
   "cell_type": "code",
   "execution_count": 46,
   "metadata": {
    "collapsed": true
   },
   "outputs": [],
   "source": [
    "uesr_embedding = model.layers[2].get_weights()[0]\n",
    "movie_embedding = model.layers[3].get_weights()[0]"
   ]
  },
  {
   "cell_type": "code",
   "execution_count": null,
   "metadata": {
    "collapsed": true
   },
   "outputs": [],
   "source": [
    "movie = pd.read_csv('movies.csv',delimiter=\"::\")"
   ]
  },
  {
   "cell_type": "code",
   "execution_count": null,
   "metadata": {
    "collapsed": true
   },
   "outputs": [],
   "source": [
    "movie['Genres'] = movie.Genres.apply(lambda x : x.split(\"|\"))"
   ]
  },
  {
   "cell_type": "code",
   "execution_count": null,
   "metadata": {
    "collapsed": true
   },
   "outputs": [],
   "source": [
    "movie.head()"
   ]
  },
  {
   "cell_type": "code",
   "execution_count": null,
   "metadata": {
    "collapsed": true
   },
   "outputs": [],
   "source": [
    "movie_types = []\n",
    "for i in movie['Genres']:\n",
    "    movie_types += i\n",
    "movie_types = list(set(movie_types))"
   ]
  },
  {
   "cell_type": "code",
   "execution_count": null,
   "metadata": {
    "collapsed": true,
    "scrolled": true
   },
   "outputs": [],
   "source": [
    "for movie_type in movie_types:\n",
    "    movie[movie_type] = 0\n",
    "    movie.loc[[(movie_type in i) for i in movie.loc[:,'Genres'].values],movie_type] = 1\n",
    "del movie['Genres']\n",
    "del movie['Title']\n",
    "gc.collect()"
   ]
  },
  {
   "cell_type": "code",
   "execution_count": null,
   "metadata": {
    "collapsed": true
   },
   "outputs": [],
   "source": [
    "movie = movie.sort_values('movieID')"
   ]
  },
  {
   "cell_type": "code",
   "execution_count": null,
   "metadata": {
    "collapsed": true,
    "scrolled": true
   },
   "outputs": [],
   "source": [
    "user = pd.read_csv('users.csv',delimiter=\"::\")"
   ]
  },
  {
   "cell_type": "code",
   "execution_count": null,
   "metadata": {
    "collapsed": true
   },
   "outputs": [],
   "source": [
    "user.head()"
   ]
  },
  {
   "cell_type": "code",
   "execution_count": null,
   "metadata": {
    "collapsed": true
   },
   "outputs": [],
   "source": [
    "train = OneHotEncoding_Cat(train,deletOrigingCol=False)"
   ]
  },
  {
   "cell_type": "code",
   "execution_count": null,
   "metadata": {
    "collapsed": true
   },
   "outputs": [],
   "source": [
    "train = (train.merge(user,on='UserID',how='left')\n",
    "            .merge(movie,left_on='MovieID', right_on='movieID',how='left')\n",
    "        )"
   ]
  },
  {
   "cell_type": "code",
   "execution_count": null,
   "metadata": {
    "collapsed": true
   },
   "outputs": [],
   "source": [
    "del train['TrainDataID']\n",
    "gc.collect()"
   ]
  },
  {
   "cell_type": "code",
   "execution_count": null,
   "metadata": {
    "collapsed": true
   },
   "outputs": [],
   "source": [
    "train.head()"
   ]
  },
  {
   "cell_type": "code",
   "execution_count": null,
   "metadata": {
    "collapsed": true
   },
   "outputs": [],
   "source": [
    "user.head()"
   ]
  },
  {
   "cell_type": "code",
   "execution_count": null,
   "metadata": {
    "collapsed": true
   },
   "outputs": [],
   "source": [
    "user['Male'] = 0\n",
    "user.loc[user.loc[:,'Gender']=='M','Male'] = 1\n",
    "user['Age'] = user['Age'].apply(lambda x : int(x*0.1)*10)\n",
    "del user['Gender']"
   ]
  },
  {
   "cell_type": "code",
   "execution_count": null,
   "metadata": {
    "collapsed": true
   },
   "outputs": [],
   "source": [
    "user = user.sort_values('UserID')"
   ]
  },
  {
   "cell_type": "code",
   "execution_count": null,
   "metadata": {
    "collapsed": true
   },
   "outputs": [],
   "source": [
    "user = OneHotEncoding_Cat(user)"
   ]
  },
  {
   "cell_type": "code",
   "execution_count": null,
   "metadata": {
    "collapsed": true
   },
   "outputs": [],
   "source": []
  },
  {
   "cell_type": "code",
   "execution_count": null,
   "metadata": {
    "collapsed": true
   },
   "outputs": [],
   "source": [
    "train.to_csv('TrainFinal.csv',index=False)"
   ]
  },
  {
   "cell_type": "code",
   "execution_count": null,
   "metadata": {
    "collapsed": true
   },
   "outputs": [],
   "source": [
    "out = keras.layers.Add()([input_a,input_b])\n",
    "model = keras.models.Model([input_a,input_b],out)"
   ]
  },
  {
   "cell_type": "code",
   "execution_count": null,
   "metadata": {
    "collapsed": true
   },
   "outputs": [],
   "source": [
    "print(model.predict([a,b]))"
   ]
  },
  {
   "cell_type": "code",
   "execution_count": null,
   "metadata": {
    "collapsed": true
   },
   "outputs": [],
   "source": [
    "# map each repo and user to a unique numeric value\n",
    "uid_job['uid'] = uid_job['uid'].astype(\"category\")\n",
    "uid_job['jobNo'] = uid_job['jobNo'].astype(\"category\")\n",
    "# create a sparse matrix of all the users/repos\n",
    "sparse_matrix = coo_matrix((np.ones(uid_job.shape[0]),\n",
    "                   (uid_job['jobNo'].cat.codes.copy(),\n",
    "                    uid_job['uid'].cat.codes.copy())))"
   ]
  }
 ],
 "metadata": {
  "kernelspec": {
   "display_name": "tensorflow",
   "language": "python",
   "name": "tensorflow"
  },
  "language_info": {
   "codemirror_mode": {
    "name": "ipython",
    "version": 3
   },
   "file_extension": ".py",
   "mimetype": "text/x-python",
   "name": "python",
   "nbconvert_exporter": "python",
   "pygments_lexer": "ipython3",
   "version": "3.5.4"
  }
 },
 "nbformat": 4,
 "nbformat_minor": 2
}
